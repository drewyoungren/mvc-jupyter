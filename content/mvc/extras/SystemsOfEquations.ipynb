{
 "cells": [
  {
   "cell_type": "code",
   "execution_count": 1,
   "metadata": {},
   "outputs": [],
   "source": [
    "import numpy as np\n",
    "import matplotlib.pyplot as plt\n",
    "\n",
    "from numpy import array, cos, sin, tan, arctan, exp, log, pi\n",
    "\n",
    "# This is the key function for solving systems of equations numerically\n",
    "from scipy.optimize import root "
   ]
  },
  {
   "cell_type": "markdown",
   "metadata": {},
   "source": [
    "# Systems of Equations\n",
    "\n",
    "In the course of solving optimization problems, one often needs to solve systems of equations, and sometimes large ones. One way to do this numerically is the `root` function from `scipy.optimize` (imported above). "
   ]
  },
  {
   "cell_type": "markdown",
   "metadata": {},
   "source": [
    "Let's peek at its [documentation](https://docs.scipy.org/doc/scipy/reference/generated/scipy.optimize.root.html), but don't get bogged down in the details."
   ]
  },
  {
   "cell_type": "code",
   "execution_count": 2,
   "metadata": {},
   "outputs": [
    {
     "name": "stdout",
     "output_type": "stream",
     "text": [
      "Help on function root in module scipy.optimize._root:\n",
      "\n",
      "root(fun, x0, args=(), method='hybr', jac=None, tol=None, callback=None, options=None)\n",
      "    Find a root of a vector function.\n",
      "    \n",
      "    Parameters\n",
      "    ----------\n",
      "    fun : callable\n",
      "        A vector function to find a root of.\n",
      "    x0 : ndarray\n",
      "        Initial guess.\n",
      "    args : tuple, optional\n",
      "        Extra arguments passed to the objective function and its Jacobian.\n",
      "    method : str, optional\n",
      "        Type of solver. Should be one of\n",
      "    \n",
      "            - 'hybr'             :ref:`(see here) <optimize.root-hybr>`\n",
      "            - 'lm'               :ref:`(see here) <optimize.root-lm>`\n",
      "            - 'broyden1'         :ref:`(see here) <optimize.root-broyden1>`\n",
      "            - 'broyden2'         :ref:`(see here) <optimize.root-broyden2>`\n",
      "            - 'anderson'         :ref:`(see here) <optimize.root-anderson>`\n",
      "            - 'linearmixing'     :ref:`(see here) <optimize.root-linearmixing>`\n",
      "            - 'diagbroyden'      :ref:`(see here) <optimize.root-diagbroyden>`\n",
      "            - 'excitingmixing'   :ref:`(see here) <optimize.root-excitingmixing>`\n",
      "            - 'krylov'           :ref:`(see here) <optimize.root-krylov>`\n",
      "            - 'df-sane'          :ref:`(see here) <optimize.root-dfsane>`\n",
      "    \n",
      "    jac : bool or callable, optional\n",
      "        If `jac` is a Boolean and is True, `fun` is assumed to return the\n",
      "        value of Jacobian along with the objective function. If False, the\n",
      "        Jacobian will be estimated numerically.\n",
      "        `jac` can also be a callable returning the Jacobian of `fun`. In\n",
      "        this case, it must accept the same arguments as `fun`.\n",
      "    tol : float, optional\n",
      "        Tolerance for termination. For detailed control, use solver-specific\n",
      "        options.\n",
      "    callback : function, optional\n",
      "        Optional callback function. It is called on every iteration as\n",
      "        ``callback(x, f)`` where `x` is the current solution and `f`\n",
      "        the corresponding residual. For all methods but 'hybr' and 'lm'.\n",
      "    options : dict, optional\n",
      "        A dictionary of solver options. E.g., `xtol` or `maxiter`, see\n",
      "        :obj:`show_options()` for details.\n",
      "    \n",
      "    Returns\n",
      "    -------\n",
      "    sol : OptimizeResult\n",
      "        The solution represented as a ``OptimizeResult`` object.\n",
      "        Important attributes are: ``x`` the solution array, ``success`` a\n",
      "        Boolean flag indicating if the algorithm exited successfully and\n",
      "        ``message`` which describes the cause of the termination. See\n",
      "        `OptimizeResult` for a description of other attributes.\n",
      "    \n",
      "    See also\n",
      "    --------\n",
      "    show_options : Additional options accepted by the solvers\n",
      "    \n",
      "    Notes\n",
      "    -----\n",
      "    This section describes the available solvers that can be selected by the\n",
      "    'method' parameter. The default method is *hybr*.\n",
      "    \n",
      "    Method *hybr* uses a modification of the Powell hybrid method as\n",
      "    implemented in MINPACK [1]_.\n",
      "    \n",
      "    Method *lm* solves the system of nonlinear equations in a least squares\n",
      "    sense using a modification of the Levenberg-Marquardt algorithm as\n",
      "    implemented in MINPACK [1]_.\n",
      "    \n",
      "    Method *df-sane* is a derivative-free spectral method. [3]_\n",
      "    \n",
      "    Methods *broyden1*, *broyden2*, *anderson*, *linearmixing*,\n",
      "    *diagbroyden*, *excitingmixing*, *krylov* are inexact Newton methods,\n",
      "    with backtracking or full line searches [2]_. Each method corresponds\n",
      "    to a particular Jacobian approximations. See `nonlin` for details.\n",
      "    \n",
      "    - Method *broyden1* uses Broyden's first Jacobian approximation, it is\n",
      "      known as Broyden's good method.\n",
      "    - Method *broyden2* uses Broyden's second Jacobian approximation, it\n",
      "      is known as Broyden's bad method.\n",
      "    - Method *anderson* uses (extended) Anderson mixing.\n",
      "    - Method *Krylov* uses Krylov approximation for inverse Jacobian. It\n",
      "      is suitable for large-scale problem.\n",
      "    - Method *diagbroyden* uses diagonal Broyden Jacobian approximation.\n",
      "    - Method *linearmixing* uses a scalar Jacobian approximation.\n",
      "    - Method *excitingmixing* uses a tuned diagonal Jacobian\n",
      "      approximation.\n",
      "    \n",
      "    .. warning::\n",
      "    \n",
      "        The algorithms implemented for methods *diagbroyden*,\n",
      "        *linearmixing* and *excitingmixing* may be useful for specific\n",
      "        problems, but whether they will work may depend strongly on the\n",
      "        problem.\n",
      "    \n",
      "    .. versionadded:: 0.11.0\n",
      "    \n",
      "    References\n",
      "    ----------\n",
      "    .. [1] More, Jorge J., Burton S. Garbow, and Kenneth E. Hillstrom.\n",
      "       1980. User Guide for MINPACK-1.\n",
      "    .. [2] C. T. Kelley. 1995. Iterative Methods for Linear and Nonlinear\n",
      "       Equations. Society for Industrial and Applied Mathematics.\n",
      "       <https://archive.siam.org/books/kelley/fr16/>\n",
      "    .. [3] W. La Cruz, J.M. Martinez, M. Raydan. Math. Comp. 75, 1429 (2006).\n",
      "    \n",
      "    Examples\n",
      "    --------\n",
      "    The following functions define a system of nonlinear equations and its\n",
      "    jacobian.\n",
      "    \n",
      "    >>> def fun(x):\n",
      "    ...     return [x[0]  + 0.5 * (x[0] - x[1])**3 - 1.0,\n",
      "    ...             0.5 * (x[1] - x[0])**3 + x[1]]\n",
      "    \n",
      "    >>> def jac(x):\n",
      "    ...     return np.array([[1 + 1.5 * (x[0] - x[1])**2,\n",
      "    ...                       -1.5 * (x[0] - x[1])**2],\n",
      "    ...                      [-1.5 * (x[1] - x[0])**2,\n",
      "    ...                       1 + 1.5 * (x[1] - x[0])**2]])\n",
      "    \n",
      "    A solution can be obtained as follows.\n",
      "    \n",
      "    >>> from scipy import optimize\n",
      "    >>> sol = optimize.root(fun, [0, 0], jac=jac, method='hybr')\n",
      "    >>> sol.x\n",
      "    array([ 0.8411639,  0.1588361])\n",
      "\n"
     ]
    }
   ],
   "source": [
    "help(root)"
   ]
  },
  {
   "cell_type": "markdown",
   "metadata": {},
   "source": [
    "The important thing is that `root` tries to solve the equation $$f(x) = 0$$ numerically, starting with an initial \"guess\" of $x_0$. \n",
    "\n",
    "To do this, `root` function needs two inputs, a function (or _callable_) `fun` and a point `x0` in its domain. It then calls a solver (you can investigate and customize these, but it is quite the rabbithole) and and reports back results. "
   ]
  },
  {
   "cell_type": "markdown",
   "metadata": {},
   "source": [
    "## First example. \n",
    "\n",
    "Let's start simply and solve $$\\cos x = x.$$ We know this has a solution for some $0 < x < \\pi/2$ but don't have a good way of finding it.  "
   ]
  },
  {
   "cell_type": "code",
   "execution_count": 3,
   "metadata": {},
   "outputs": [
    {
     "data": {
      "image/png": "[encoded data removed]",
      "text/plain": [
       "<Figure size 432x288 with 1 Axes>"
      ]
     },
     "metadata": {
      "needs_background": "light"
     },
     "output_type": "display_data"
    }
   ],
   "source": [
    "# plot cos and and x to see their intersection. \n",
    "x = np.linspace(0,pi/2,31)\n",
    "plt.plot(x,x,x,cos(x));"
   ]
  },
  {
   "cell_type": "markdown",
   "metadata": {},
   "source": [
    "Now, there is a simple trick to turning the solution of an equation into the zero of a function. It is good old subtraction. "
   ]
  },
  {
   "cell_type": "code",
   "execution_count": 4,
   "metadata": {},
   "outputs": [],
   "source": [
    "def f(x):\n",
    "    return cos(x) - x"
   ]
  },
  {
   "cell_type": "code",
   "execution_count": 5,
   "metadata": {},
   "outputs": [
    {
     "data": {
      "image/png": "[encoded data removed]",
      "text/plain": [
       "<Figure size 432x288 with 1 Axes>"
      ]
     },
     "metadata": {
      "needs_background": "light"
     },
     "output_type": "display_data"
    }
   ],
   "source": [
    "x = np.linspace(0,pi/2,31)\n",
    "plt.plot(x,f(x),x,0*x);"
   ]
  },
  {
   "cell_type": "code",
   "execution_count": 6,
   "metadata": {},
   "outputs": [
    {
     "data": {
      "text/plain": [
       "    fjac: array([[-1.]])\n",
       "     fun: array([7.77156117e-16])\n",
       " message: 'The solution converged.'\n",
       "    nfev: 7\n",
       "     qtf: array([1.19423882e-09])\n",
       "       r: array([1.67361078])\n",
       "  status: 1\n",
       " success: True\n",
       "       x: array([0.73908513])"
      ]
     },
     "execution_count": 6,
     "metadata": {},
     "output_type": "execute_result"
    }
   ],
   "source": [
    "# Now just invoke root and give it a guess. \n",
    "root(f,.5)"
   ]
  },
  {
   "cell_type": "markdown",
   "metadata": {},
   "source": [
    "That's a lot of information, but the most important bit is the solution `x` and the `success` flag. We can capture all this in an object and then just use the pieces we need. "
   ]
  },
  {
   "cell_type": "code",
   "execution_count": 7,
   "metadata": {},
   "outputs": [
    {
     "name": "stdout",
     "output_type": "stream",
     "text": [
      "The solution converged.\n"
     ]
    }
   ],
   "source": [
    "sol = root(f,.5)\n",
    "print(sol.message)\n",
    "x, = sol.x # that comma is there because root stores the solution as an array. "
   ]
  },
  {
   "cell_type": "code",
   "execution_count": 8,
   "metadata": {},
   "outputs": [
    {
     "name": "stdout",
     "output_type": "stream",
     "text": [
      "0.7390851332151601 0.7390851332151609\n"
     ]
    }
   ],
   "source": [
    "# Note the solution is a numeric approximation and thus not exact. \n",
    "print(x,cos(x))"
   ]
  },
  {
   "cell_type": "markdown",
   "metadata": {},
   "source": [
    "## Exercise\n",
    "\n",
    "Find all the solutions to $$e^x - 2x = 1$$. "
   ]
  },
  {
   "cell_type": "code",
   "execution_count": 9,
   "metadata": {},
   "outputs": [
    {
     "data": {
      "image/png": "[encoded data removed]",
      "text/plain": [
       "<Figure size 432x288 with 1 Axes>"
      ]
     },
     "metadata": {
      "needs_background": "light"
     },
     "output_type": "display_data"
    }
   ],
   "source": [
    "xs = np.linspace(-1,2,50)\n",
    "plt.plot(xs,exp(xs) - 2*xs,label=\"$e^x-2x$\")\n",
    "plt.plot(xs,np.ones_like(xs),label=\"$1$\");\n",
    "plt.legend();"
   ]
  },
  {
   "cell_type": "code",
   "execution_count": 10,
   "metadata": {},
   "outputs": [],
   "source": [
    "def f(x):\n",
    "    return # insert formula here"
   ]
  },
  {
   "cell_type": "markdown",
   "metadata": {},
   "source": [
    "### Warning\n",
    "\n",
    "Bad initial guesses can confuse the solver. Why does this code fail to find $\\sqrt{2}$? Can you fix it?"
   ]
  },
  {
   "cell_type": "code",
   "execution_count": 11,
   "metadata": {},
   "outputs": [
    {
     "data": {
      "text/plain": [
       "    fjac: array([[-1.]])\n",
       "     fun: array([-2.])\n",
       " message: 'The iteration is not making good progress, as measured by the \\n  improvement from the last ten iterations.'\n",
       "    nfev: 13\n",
       "     qtf: array([2.])\n",
       "       r: array([0.])\n",
       "  status: 5\n",
       " success: False\n",
       "       x: array([0.])"
      ]
     },
     "execution_count": 11,
     "metadata": {},
     "output_type": "execute_result"
    }
   ],
   "source": [
    "def g(x): return x**2 - 2\n",
    "root(g,0)"
   ]
  },
  {
   "cell_type": "markdown",
   "metadata": {},
   "source": [
    "# Systems\n",
    "\n",
    "The solution to any system of equations can be expressed as a root-finding problem by using vectors. `root` can take a vector-valued function as its callable. \n",
    "\n",
    "**Important** When dealing with several variables, the function given to `root` must take an array as its argument, not several variables. "
   ]
  },
  {
   "cell_type": "markdown",
   "metadata": {},
   "source": [
    "## First example\n",
    "\n",
    "Find two numbers that sum to 51 where one is twice the other. \n",
    "\n",
    "That is, we solve the system \n",
    "\n",
    "$$x + y = 51 $$\n",
    "$$x-2y =0 $$\n"
   ]
  },
  {
   "cell_type": "code",
   "execution_count": 12,
   "metadata": {},
   "outputs": [
    {
     "name": "stdout",
     "output_type": "stream",
     "text": [
      "34.0 17.0\n"
     ]
    }
   ],
   "source": [
    "def F(v):\n",
    "    x,y = v\n",
    "    return [x+y - 51,x-2*y]\n",
    "\n",
    "sol = root(F,[0,0])\n",
    "x,y = sol.x\n",
    "print(x,y)"
   ]
  },
  {
   "cell_type": "markdown",
   "metadata": {},
   "source": [
    "## Example from class\n",
    "\n",
    "<img src=\"halfdisk4.png\" width=\"50%\" style=\"float: right;\">\n",
    "We were trying to maximize/minimize the function $$u(x,y) = x^2 - 6x + 4y^2 - 8y$$ on the upper half-disk of radius $4$. \n",
    "\n",
    "Let's do the whole problem. "
   ]
  },
  {
   "cell_type": "code",
   "execution_count": 13,
   "metadata": {},
   "outputs": [],
   "source": [
    "def u(x,y):\n",
    "    return x**2 - 6*x + 4*y**2 - 8*y"
   ]
  },
  {
   "cell_type": "code",
   "execution_count": 14,
   "metadata": {},
   "outputs": [
    {
     "data": {
      "text/plain": [
       "{(4, 0): -8, (-4, 0): 40}"
      ]
     },
     "execution_count": 14,
     "metadata": {},
     "output_type": "execute_result"
    }
   ],
   "source": [
    "# Check the corners, store the candidates in a dictionary\n",
    "candidates = dict([((4,0),u(4,0)),((-4,0),u(-4,0))])\n",
    "candidates"
   ]
  },
  {
   "cell_type": "markdown",
   "metadata": {},
   "source": [
    "Find critical points $$\\nabla u = \\begin{bmatrix} 2x-6 \\\\ 8y-8 \\end{bmatrix} = \\mathbf 0$$"
   ]
  },
  {
   "cell_type": "code",
   "execution_count": 15,
   "metadata": {},
   "outputs": [
    {
     "data": {
      "text/plain": [
       "    fjac: array([[-1.,  0.],\n",
       "       [ 0., -1.]])\n",
       "     fun: array([0., 0.])\n",
       " message: 'The solution converged.'\n",
       "    nfev: 5\n",
       "     qtf: array([-8.72457662e-12,  0.00000000e+00])\n",
       "       r: array([-2.,  0., -8.])\n",
       "  status: 1\n",
       " success: True\n",
       "       x: array([3., 1.])"
      ]
     },
     "execution_count": 15,
     "metadata": {},
     "output_type": "execute_result"
    }
   ],
   "source": [
    "# Play dumb\n",
    "\n",
    "def F(v):\n",
    "    x,y = v # separate the individual inputs variables.\n",
    "    return [2*x - 6, 8*y - 8]\n",
    "\n",
    "root(F, (1,1))"
   ]
  },
  {
   "cell_type": "code",
   "execution_count": 16,
   "metadata": {},
   "outputs": [
    {
     "data": {
      "text/plain": [
       "{(4, 0): -8, (-4, 0): 40, (3, 1): -13}"
      ]
     },
     "execution_count": 16,
     "metadata": {},
     "output_type": "execute_result"
    }
   ],
   "source": [
    "candidates[(3,1)] = u(3,1)\n",
    "candidates"
   ]
  },
  {
   "cell_type": "markdown",
   "metadata": {},
   "source": [
    "For the bottom, we use the simple constraint $g(x,y) = y = 0$ and solve the system \n",
    "\n",
    "$$\\nabla u = \\begin{bmatrix} 2x-6 \\\\ 8y-8 \\end{bmatrix} = \\lambda \\begin{bmatrix} 0 \\\\ 1 \\end{bmatrix}$$\n",
    "\n",
    "This is equally trivial to solve, but let's use `root`. Note we have 3 variables now and so we pass in a function that takes in and returns $3$-vectors like so:"
   ]
  },
  {
   "cell_type": "code",
   "execution_count": 17,
   "metadata": {},
   "outputs": [],
   "source": [
    "def G(v):\n",
    "    x,y,lam = v #unpack 3 variables\n",
    "    return [y,2*x-6,8*y - 8 - lam ] # note we move all terms over; the first entry is the constraint"
   ]
  },
  {
   "cell_type": "code",
   "execution_count": 18,
   "metadata": {},
   "outputs": [
    {
     "data": {
      "text/plain": [
       "array([ 3.00000000e+00, -4.03896783e-28, -8.00000000e+00])"
      ]
     },
     "execution_count": 18,
     "metadata": {},
     "output_type": "execute_result"
    }
   ],
   "source": [
    "root(G,(1,1,1)).x"
   ]
  },
  {
   "cell_type": "markdown",
   "metadata": {},
   "source": [
    "In case you are unfamiliar with the notation, that middle term for $y$ represents $-4.03896783 \\times 10^{-28}$ (or similar, depending on your setup), off from $0$ because of rounding errors."
   ]
  },
  {
   "cell_type": "code",
   "execution_count": 19,
   "metadata": {},
   "outputs": [
    {
     "data": {
      "text/plain": [
       "{(4, 0): -8, (-4, 0): 40, (3, 1): -13, (3, 0): -9}"
      ]
     },
     "execution_count": 19,
     "metadata": {},
     "output_type": "execute_result"
    }
   ],
   "source": [
    "# add to what we've got. \n",
    "candidates[(3,0)] = u(3,0)\n",
    "candidates"
   ]
  },
  {
   "cell_type": "markdown",
   "metadata": {},
   "source": [
    "Finally, we turn to the top where $g(x,y) = x^2 + y^2 = 16$ and solve the system \n",
    "\n",
    "$$\\nabla u = \\begin{bmatrix} 2x-6 \\\\ 8y-8 \\end{bmatrix} = \\lambda \\begin{bmatrix} 2x \\\\ 2y \\end{bmatrix}$$\n",
    "\n",
    "Not so simple a system, so we use `root`."
   ]
  },
  {
   "cell_type": "code",
   "execution_count": 20,
   "metadata": {},
   "outputs": [],
   "source": [
    "def H(v):\n",
    "    x,y,lam = v \n",
    "    return [x**2 + y**2 - 16,\n",
    "            2*x-6 - lam*2*x,\n",
    "            8*y - 8 - lam*2*y ] "
   ]
  },
  {
   "cell_type": "code",
   "execution_count": 21,
   "metadata": {},
   "outputs": [
    {
     "name": "stdout",
     "output_type": "stream",
     "text": [
      "The solution converged.\n"
     ]
    }
   ],
   "source": [
    "sol = root(H,(-1,3,1))\n",
    "print(sol.message)"
   ]
  },
  {
   "cell_type": "code",
   "execution_count": 22,
   "metadata": {},
   "outputs": [
    {
     "name": "stdout",
     "output_type": "stream",
     "text": [
      "-1.5682403059559795 3.679758462558995 36.59324116358698\n"
     ]
    }
   ],
   "source": [
    "# Hooray\n",
    "x,y,lam = sol.x\n",
    "print(x,y,u(x,y))\n",
    "candidates[(x,y)] = u(x,y)"
   ]
  },
  {
   "cell_type": "code",
   "execution_count": 23,
   "metadata": {},
   "outputs": [
    {
     "data": {
      "text/plain": [
       "{(4, 0): -8,\n",
       " (-4, 0): 40,\n",
       " (3, 1): -13,\n",
       " (3, 0): -9,\n",
       " (-1.5682403059559795, 3.679758462558995): 36.59324116358698}"
      ]
     },
     "execution_count": 23,
     "metadata": {},
     "output_type": "execute_result"
    }
   ],
   "source": [
    "candidates"
   ]
  },
  {
   "cell_type": "markdown",
   "metadata": {},
   "source": [
    "**Bad news** we are not done. There are more solutions. The picture above suggests 3. We go hunting. "
   ]
  },
  {
   "cell_type": "code",
   "execution_count": 24,
   "metadata": {},
   "outputs": [
    {
     "data": {
      "text/plain": [
       "array([-3.54241341,  1.85776942,  1.84688026])"
      ]
     },
     "execution_count": 24,
     "metadata": {},
     "output_type": "execute_result"
    }
   ],
   "source": [
    "# Now the tricky bit is there are other solutions to the system above. \n",
    "\n",
    "root(H,(-3,1,1)).x"
   ]
  },
  {
   "cell_type": "code",
   "execution_count": 25,
   "metadata": {},
   "outputs": [
    {
     "name": "stdout",
     "output_type": "stream",
     "text": [
      "3.8573141220604503 1.0588332084098793 -12.251167110468517\n"
     ]
    }
   ],
   "source": [
    "x,y,lam = root(H,(3,1,1)).x\n",
    "print(x,y,u(x,y))\n",
    "candidates[(x,y)] = u(x,y)"
   ]
  },
  {
   "cell_type": "code",
   "execution_count": 26,
   "metadata": {},
   "outputs": [
    {
     "name": "stdout",
     "output_type": "stream",
     "text": [
      "-3.5424134137398027 1.857769416833187 32.74624676609989\n"
     ]
    }
   ],
   "source": [
    "x,y,lam = root(H,(-3,1,1)).x\n",
    "print(x,y,u(x,y))\n",
    "candidates[(x,y)] = u(x,y)"
   ]
  },
  {
   "cell_type": "code",
   "execution_count": 27,
   "metadata": {},
   "outputs": [
    {
     "data": {
      "text/plain": [
       "{(4, 0): -8,\n",
       " (-4, 0): 40,\n",
       " (3, 1): -13,\n",
       " (3, 0): -9,\n",
       " (-1.5682403059559795, 3.679758462558995): 36.59324116358698,\n",
       " (3.8573141220604503, 1.0588332084098793): -12.251167110468517,\n",
       " (-3.5424134137398027, 1.857769416833187): 32.74624676609989}"
      ]
     },
     "execution_count": 27,
     "metadata": {},
     "output_type": "execute_result"
    }
   ],
   "source": [
    "candidates"
   ]
  },
  {
   "cell_type": "markdown",
   "metadata": {},
   "source": [
    "But that is all, so we conlude, finally that the global max of $u$ is $40$ at the corner $(-4,0)$ and the minimum is $-13$ and the critical point."
   ]
  },
  {
   "cell_type": "markdown",
   "metadata": {},
   "source": [
    "## Bonus discussion\n",
    "\n",
    "#### Ignore if you have other things to do\n",
    "\n",
    "Observe:"
   ]
  },
  {
   "cell_type": "code",
   "execution_count": 28,
   "metadata": {},
   "outputs": [
    {
     "name": "stdout",
     "output_type": "stream",
     "text": [
      "-3.542413413745806 1.857769416832641 32.74624676617469\n"
     ]
    }
   ],
   "source": [
    "x,y,lam = root(H,(0,4,1)).x\n",
    "print(x,y,u(x,y))"
   ]
  },
  {
   "cell_type": "markdown",
   "metadata": {},
   "source": [
    "The initial point $(0,4)$ does not lead to the closest root. Which begs the question, which initial condition leads to which root?"
   ]
  },
  {
   "cell_type": "code",
   "execution_count": 29,
   "metadata": {},
   "outputs": [],
   "source": [
    "def which_root(x0,y0):\n",
    "    \"\"\"This function takes the initial point (x0,y0)  and lambda=1 \n",
    "    and reports back the angle from -pi/2 to 3pi/2 associated to \n",
    "    the root it finds. This will make the subsequent picture easier to draw.\"\"\"\n",
    "    x,y,l = root(H,(x0,y0,1)).x\n",
    "    if x > 0:\n",
    "        return arctan(y/x)\n",
    "    elif x < 0:\n",
    "        return arctan(y/x) + pi\n",
    "    else:\n",
    "        return sign(y)*pi/2"
   ]
  },
  {
   "cell_type": "code",
   "execution_count": 30,
   "metadata": {},
   "outputs": [],
   "source": [
    "X = Y = np.linspace(-4,4,250)\n",
    "X,Y = np.meshgrid(X,Y)\n",
    "Z = np.vectorize(which_root)(X,Y)"
   ]
  },
  {
   "cell_type": "code",
   "execution_count": 31,
   "metadata": {},
   "outputs": [
    {
     "name": "stderr",
     "output_type": "stream",
     "text": [
      "<ipython-input-31-f124f06fb691>:2: MatplotlibDeprecationWarning: shading='flat' when X and Y have the same dimensions as C is deprecated since 3.3.  Either specify the corners of the quadrilaterals with X and Y, or pass shading='auto', 'nearest' or 'gouraud', or set rcParams['pcolor.shading'].  This will become an error two minor releases later.\n",
      "  plt.pcolormesh(X,Y,Z,cmap='gnuplot')\n"
     ]
    },
    {
     "data": {
      "image/png": "[encoded data removed]",
      "text/plain": [
       "<Figure size 720x576 with 2 Axes>"
      ]
     },
     "metadata": {
      "needs_background": "light"
     },
     "output_type": "display_data"
    }
   ],
   "source": [
    "plt.figure(figsize=(10,8))\n",
    "plt.pcolormesh(X,Y,Z,cmap='gnuplot')\n",
    "plt.plot(4*cos(np.linspace(0,2*pi,100)),4*sin(np.linspace(0,2*pi,100)),'-k',lw=4)\n",
    "plt.colorbar();"
   ]
  },
  {
   "cell_type": "markdown",
   "metadata": {},
   "source": [
    "What does this mean? It mean these solving schemes are wickedly unstable, even chaotic. Try changing the default initial choice of $\\lambda_0$ in the code above (It is at 1 now) and watch the picture change. "
   ]
  },
  {
   "cell_type": "code",
   "execution_count": 32,
   "metadata": {},
   "outputs": [
    {
     "data": {
      "text/plain": [
       "['Accent',\n",
       " 'Accent_r',\n",
       " 'Blues',\n",
       " 'Blues_r',\n",
       " 'BrBG',\n",
       " 'BrBG_r',\n",
       " 'BuGn',\n",
       " 'BuGn_r',\n",
       " 'BuPu',\n",
       " 'BuPu_r',\n",
       " 'CMRmap',\n",
       " 'CMRmap_r',\n",
       " 'Dark2',\n",
       " 'Dark2_r',\n",
       " 'GnBu',\n",
       " 'GnBu_r',\n",
       " 'Greens',\n",
       " 'Greens_r',\n",
       " 'Greys',\n",
       " 'Greys_r',\n",
       " 'OrRd',\n",
       " 'OrRd_r',\n",
       " 'Oranges',\n",
       " 'Oranges_r',\n",
       " 'PRGn',\n",
       " 'PRGn_r',\n",
       " 'Paired',\n",
       " 'Paired_r',\n",
       " 'Pastel1',\n",
       " 'Pastel1_r',\n",
       " 'Pastel2',\n",
       " 'Pastel2_r',\n",
       " 'PiYG',\n",
       " 'PiYG_r',\n",
       " 'PuBu',\n",
       " 'PuBuGn',\n",
       " 'PuBuGn_r',\n",
       " 'PuBu_r',\n",
       " 'PuOr',\n",
       " 'PuOr_r',\n",
       " 'PuRd',\n",
       " 'PuRd_r',\n",
       " 'Purples',\n",
       " 'Purples_r',\n",
       " 'RdBu',\n",
       " 'RdBu_r',\n",
       " 'RdGy',\n",
       " 'RdGy_r',\n",
       " 'RdPu',\n",
       " 'RdPu_r',\n",
       " 'RdYlBu',\n",
       " 'RdYlBu_r',\n",
       " 'RdYlGn',\n",
       " 'RdYlGn_r',\n",
       " 'Reds',\n",
       " 'Reds_r',\n",
       " 'Set1',\n",
       " 'Set1_r',\n",
       " 'Set2',\n",
       " 'Set2_r',\n",
       " 'Set3',\n",
       " 'Set3_r',\n",
       " 'Spectral',\n",
       " 'Spectral_r',\n",
       " 'Wistia',\n",
       " 'Wistia_r',\n",
       " 'YlGn',\n",
       " 'YlGnBu',\n",
       " 'YlGnBu_r',\n",
       " 'YlGn_r',\n",
       " 'YlOrBr',\n",
       " 'YlOrBr_r',\n",
       " 'YlOrRd',\n",
       " 'YlOrRd_r',\n",
       " 'afmhot',\n",
       " 'afmhot_r',\n",
       " 'autumn',\n",
       " 'autumn_r',\n",
       " 'binary',\n",
       " 'binary_r',\n",
       " 'bone',\n",
       " 'bone_r',\n",
       " 'brg',\n",
       " 'brg_r',\n",
       " 'bwr',\n",
       " 'bwr_r',\n",
       " 'cividis',\n",
       " 'cividis_r',\n",
       " 'cool',\n",
       " 'cool_r',\n",
       " 'coolwarm',\n",
       " 'coolwarm_r',\n",
       " 'copper',\n",
       " 'copper_r',\n",
       " 'cubehelix',\n",
       " 'cubehelix_r',\n",
       " 'flag',\n",
       " 'flag_r',\n",
       " 'gist_earth',\n",
       " 'gist_earth_r',\n",
       " 'gist_gray',\n",
       " 'gist_gray_r',\n",
       " 'gist_heat',\n",
       " 'gist_heat_r',\n",
       " 'gist_ncar',\n",
       " 'gist_ncar_r',\n",
       " 'gist_rainbow',\n",
       " 'gist_rainbow_r',\n",
       " 'gist_stern',\n",
       " 'gist_stern_r',\n",
       " 'gist_yarg',\n",
       " 'gist_yarg_r',\n",
       " 'gnuplot',\n",
       " 'gnuplot2',\n",
       " 'gnuplot2_r',\n",
       " 'gnuplot_r',\n",
       " 'gray',\n",
       " 'gray_r',\n",
       " 'hot',\n",
       " 'hot_r',\n",
       " 'hsv',\n",
       " 'hsv_r',\n",
       " 'inferno',\n",
       " 'inferno_r',\n",
       " 'jet',\n",
       " 'jet_r',\n",
       " 'magma',\n",
       " 'magma_r',\n",
       " 'nipy_spectral',\n",
       " 'nipy_spectral_r',\n",
       " 'ocean',\n",
       " 'ocean_r',\n",
       " 'pink',\n",
       " 'pink_r',\n",
       " 'plasma',\n",
       " 'plasma_r',\n",
       " 'prism',\n",
       " 'prism_r',\n",
       " 'rainbow',\n",
       " 'rainbow_r',\n",
       " 'seismic',\n",
       " 'seismic_r',\n",
       " 'spring',\n",
       " 'spring_r',\n",
       " 'summer',\n",
       " 'summer_r',\n",
       " 'tab10',\n",
       " 'tab10_r',\n",
       " 'tab20',\n",
       " 'tab20_r',\n",
       " 'tab20b',\n",
       " 'tab20b_r',\n",
       " 'tab20c',\n",
       " 'tab20c_r',\n",
       " 'terrain',\n",
       " 'terrain_r',\n",
       " 'turbo',\n",
       " 'turbo_r',\n",
       " 'twilight',\n",
       " 'twilight_r',\n",
       " 'twilight_shifted',\n",
       " 'twilight_shifted_r',\n",
       " 'viridis',\n",
       " 'viridis_r',\n",
       " 'winter',\n",
       " 'winter_r']"
      ]
     },
     "execution_count": 32,
     "metadata": {},
     "output_type": "execute_result"
    }
   ],
   "source": [
    "plt.colormaps() #use these to try out other color schemes."
   ]
  },
  {
   "cell_type": "code",
   "execution_count": null,
   "metadata": {},
   "outputs": [],
   "source": []
  }
 ],
 "metadata": {
  "kernelspec": {
   "display_name": "Python 3 (ipykernel)",
   "language": "python",
   "name": "python3"
  },
  "language_info": {
   "codemirror_mode": {
    "name": "ipython",
    "version": 3
   },
   "file_extension": ".py",
   "mimetype": "text/x-python",
   "name": "python",
   "nbconvert_exporter": "python",
   "pygments_lexer": "ipython3",
   "version": "3.9.7"
  },
  "widgets": {
   "application/vnd.jupyter.widget-state+json": {
    "state": {},
    "version_major": 2,
    "version_minor": 0
   }
  }
 },
 "nbformat": 4,
 "nbformat_minor": 4
}
