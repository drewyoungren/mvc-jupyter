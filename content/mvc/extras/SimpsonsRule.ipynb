{
 "cells": [
  {
   "cell_type": "code",
   "execution_count": 5,
   "metadata": {},
   "outputs": [],
   "source": [
    "import numpy as np\n",
    "import matplotlib.pyplot as plt\n",
    "from ipywidgets import interact,fixed"
   ]
  },
  {
   "cell_type": "markdown",
   "metadata": {},
   "source": [
    "# Simpson's Rule\n",
    "\n",
    "Simpson's rule is a means of approximating a integral integral $$ I = \\int_a^b f(x)\\,dx$$ using only a finite number of values of $f$."
   ]
  },
  {
   "cell_type": "markdown",
   "metadata": {},
   "source": [
    "More specifically, let $n$ be a positive, even integer. We partition the interval $[a,b]$ into $n$ uniform subintervals of width $$\\Delta x = \\frac{b-a}{n}$$.\n",
    "\n",
    "\\begin{align*}\n",
    "x_0 &= a \\\\\n",
    "x_1 &= a + \\Delta x \\\\\n",
    "\\ &\\vdots \\\\\n",
    "x_i &= a  + i\\Delta x \\\\\n",
    "\\ &\\vdots \\\\\n",
    "x_n &= b\n",
    "\\end{align*}\n"
   ]
  },
  {
   "cell_type": "markdown",
   "metadata": {},
   "source": [
    "Since $n$ is even, we take these subintervals 2 at a time. Then we fit a quadratic function to the three function values at the edges of this pair of intervals. Graphically,"
   ]
  },
  {
   "cell_type": "code",
   "execution_count": 6,
   "metadata": {
    "hide_input": true,
    "jupyter": {
     "source_hidden": true
    }
   },
   "outputs": [
    {
     "data": {
      "application/vnd.jupyter.widget-view+json": {
       "model_id": "ea71c9eeb4bf4fd191404574fd02ba78",
       "version_major": 2,
       "version_minor": 0
      },
      "text/plain": [
       "interactive(children=(FloatSlider(value=1.5, description='y0', max=3.0), FloatSlider(value=2.0, description='y…"
      ]
     },
     "metadata": {},
     "output_type": "display_data"
    }
   ],
   "source": [
    "@interact\n",
    "def _(y0=(0,3.),y1=(0,4.),y2=(0,3.)):\n",
    "    plt.plot([-1,-1],[0,y0],'--k')\n",
    "    plt.plot([0,0],[0,y1],'--k')\n",
    "    plt.plot([1,1],[0,y2],'--k')\n",
    "    x = np.linspace(-1,1,55)\n",
    "    A = np.array([[1,-1,1],[1,0,0],[1,1,1]])\n",
    "    c,b,a = np.linalg.solve(A,[y0,y1,y2])\n",
    "    plt.plot(x,a*x**2 + b*x + c,'k')\n",
    "    plt.fill(np.concatenate([x,[x[-1],x[0]]]),np.concatenate([a*x**2 + b*x + c,[0,0]]),alpha=.5)\n",
    "    plt.ylim([0,4])\n",
    "    plt.xticks([-1,0,1],['$-h$','$0$','$h$'])"
   ]
  },
  {
   "cell_type": "markdown",
   "metadata": {},
   "source": [
    "Since we don't actually care about the expression for this curve, only its integral, we can make a shortcut. Suppose the three points are translated to $-h,0,h$ and let $ax^2 + bx+c$ be the curve function that fits these values, so \n",
    "\n",
    "\\begin{align*}\n",
    "y_0 &= a(-h)^2 + b(-h) + c  \\\\\n",
    "y_1 &= c  \\\\\n",
    "y_2 &= a(h)^2 + b(h) + c  \\\\\n",
    "\\end{align*}\n",
    "\n",
    "Now note we have $$y_0 + 4y_1 +y_2 = 2ah^2 +6c$$ (you'll see why this matters in a second)."
   ]
  },
  {
   "cell_type": "markdown",
   "metadata": {},
   "source": [
    "We integrate \n",
    "\n",
    "$$\\int_{-h}^h ax^2+bx+c\\,dx = 2 a\\frac{h^3}{3} + 2ch = \\frac{h}{3}(2ah^2 +6c) $$ $$= \\frac{h}{3}(y_0 + 4 y_1 +y_2)$$"
   ]
  },
  {
   "cell_type": "markdown",
   "metadata": {},
   "source": [
    "So the area under each pair of subintervals can be computed this way, and when we add them together, the terms on the \"inside edge\" of each pair gets added twice. Thus a pattern emerges.\n",
    "\n",
    "\\begin{align*}\n",
    "I \\approx \\frac{\\Delta x}{3} (&f(x_0) + 4f(x_1) + f(x_2) \\  \\\\\n",
    "+ &f(x_2) + 4f(x_3) + f(x_4) \\\\\n",
    " &\\vdots \\\\\n",
    "+ &f(x_{n-2}) + 4f(x_{n-1}) + f(x_{n}) )\n",
    "\\end{align*}\n",
    "$$ = \\frac{\\Delta x}{3} (f(x_0) + 4f(x_1) + 2f(x_2) + 4f(x_3) +\\cdots + 2f(x_{n-2}) + 4f(x_{n-1}) + f(x_{n}) ) $$"
   ]
  },
  {
   "cell_type": "markdown",
   "metadata": {},
   "source": [
    "This last estimate is what is known as **Simpson's Rule**.\n",
    "\n",
    "#### Example \n",
    "\n",
    "Estimate the definite integral $$\\int_0^\\pi x^2 \\sin^2{x}\\,dx $$ using Simpson's Rule. "
   ]
  },
  {
   "cell_type": "code",
   "execution_count": 7,
   "metadata": {
    "hide_input": true,
    "jupyter": {
     "source_hidden": true
    }
   },
   "outputs": [
    {
     "data": {
      "application/vnd.jupyter.widget-view+json": {
       "model_id": "88d93d379150424eb0bb418c56f6e1fc",
       "version_major": 2,
       "version_minor": 0
      },
      "text/plain": [
       "interactive(children=(IntSlider(value=16, description='n', max=30, min=2, step=2), Output()), _dom_classes=('w…"
      ]
     },
     "metadata": {},
     "output_type": "display_data"
    }
   ],
   "source": [
    "@interact\n",
    "def _(n=(2,30,2),f=fixed(lambda x: x**2*np.sin(x)**2)):\n",
    "    for i in range(0,n,2):\n",
    "        x0,x1,x2 = [(np.pi/n*j) for j in range(i,i+3)]\n",
    "        y0,y1,y2 = [f(x0),f(x1),f(x2)]\n",
    "        plt.plot([x0,x0],[0,y0],'--k')\n",
    "        plt.plot([x1,x1],[0,y1],'--k')\n",
    "#         plt.plot([1,1],[0,y2],'--k')\n",
    "        x = np.linspace(x0,x2,25)\n",
    "        A = np.array([[1,x0,x0**2],[1,x1,x1**2],[1,x2,x2**2]])\n",
    "        c,b,a = np.linalg.solve(A,[y0,y1,y2])\n",
    "        plt.plot(x,a*x**2 + b*x + c,'k')\n",
    "        plt.fill(np.concatenate([x,[x[-1],x[0]]]),np.concatenate([a*x**2 + b*x + c,[0,0]]),alpha=.6)\n",
    "    x = np.linspace(0,np.pi,55)\n",
    "    plt.plot(x,f(x),'k')\n",
    "    plt.fill(np.concatenate([x,[x[-1],x[0]]]),np.concatenate([f(x),[0,0]]),'r',alpha=.15)\n",
    "    plt.ylim([0,3.5])\n",
    "    plt.xticks([np.pi/4*i for i in range(5)],[\"$\\\\frac{{ {} \\pi }}{{4}}$\".format(i) for i in range(5)])"
   ]
  },
  {
   "cell_type": "code",
   "execution_count": 8,
   "metadata": {},
   "outputs": [],
   "source": [
    "def sr_vector(n):\n",
    "    \"\"\"This is a generator for producing the 142424...4241 pattern in Simpson's Rule\"\"\"\n",
    "    yield 1\n",
    "    for _ in range(n//2-1):\n",
    "        yield 4\n",
    "        yield 2\n",
    "    yield 4\n",
    "    yield 1\n",
    "\n",
    "def simpsons_rule(f,a,b,n=10):\n",
    "    \"\"\"Approximates the definite integral of f from a to b using n \n",
    "    subintervals via Simpson's Rule. \n",
    "    n must be even.\n",
    "    \"\"\"\n",
    "    dx = (b-a)/(n)\n",
    "    return dx/3*np.dot(list(sr_vector(n)),[f(a+i*dx) for i in range(n+1)])"
   ]
  },
  {
   "cell_type": "code",
   "execution_count": 9,
   "metadata": {},
   "outputs": [
    {
     "data": {
      "text/plain": [
       "4.382314616652521"
      ]
     },
     "execution_count": 9,
     "metadata": {},
     "output_type": "execute_result"
    }
   ],
   "source": [
    "from scipy.integrate import quad\n",
    "quad(lambda x: x**2*np.sin(x)**2,0,np.pi)[0]\n"
   ]
  },
  {
   "cell_type": "code",
   "execution_count": 10,
   "metadata": {},
   "outputs": [
    {
     "name": "stdout",
     "output_type": "stream",
     "text": [
      " 2 5.167712780049969\n",
      " 4 4.521748682543723\n",
      " 6 4.402125701524049\n",
      " 8 4.387965137547131\n",
      "10 4.384524331585615\n",
      "12 4.383354231493331\n",
      "14 4.382867548618777\n",
      "16 4.382635661414043\n",
      "18 4.382513743235085\n",
      "20 4.382444658492079\n",
      "22 4.382403133008028\n",
      "24 4.382376952596762\n"
     ]
    },
    {
     "ename": "NameError",
     "evalue": "name 'II' is not defined",
     "output_type": "error",
     "traceback": [
      "\u001b[0;31m---------------------------------------------------------------------------\u001b[0m",
      "\u001b[0;31mNameError\u001b[0m                                 Traceback (most recent call last)",
      "\u001b[0;32m<ipython-input-10-877d23588dc0>\u001b[0m in \u001b[0;36m<module>\u001b[0;34m\u001b[0m\n\u001b[1;32m      1\u001b[0m \u001b[0;32mfor\u001b[0m \u001b[0mn\u001b[0m \u001b[0;32min\u001b[0m \u001b[0mrange\u001b[0m\u001b[0;34m(\u001b[0m\u001b[0;36m2\u001b[0m\u001b[0;34m,\u001b[0m\u001b[0;36m25\u001b[0m\u001b[0;34m,\u001b[0m\u001b[0;36m2\u001b[0m\u001b[0;34m)\u001b[0m\u001b[0;34m:\u001b[0m\u001b[0;34m\u001b[0m\u001b[0;34m\u001b[0m\u001b[0m\n\u001b[1;32m      2\u001b[0m     \u001b[0mprint\u001b[0m\u001b[0;34m(\u001b[0m\u001b[0;34mf\"{n:2d}\"\u001b[0m\u001b[0;34m,\u001b[0m\u001b[0msimpsons_rule\u001b[0m\u001b[0;34m(\u001b[0m\u001b[0;32mlambda\u001b[0m \u001b[0mx\u001b[0m\u001b[0;34m:\u001b[0m \u001b[0mx\u001b[0m\u001b[0;34m**\u001b[0m\u001b[0;36m2\u001b[0m\u001b[0;34m*\u001b[0m\u001b[0mnp\u001b[0m\u001b[0;34m.\u001b[0m\u001b[0msin\u001b[0m\u001b[0;34m(\u001b[0m\u001b[0mx\u001b[0m\u001b[0;34m)\u001b[0m\u001b[0;34m**\u001b[0m\u001b[0;36m2\u001b[0m\u001b[0;34m,\u001b[0m\u001b[0;36m0\u001b[0m\u001b[0;34m,\u001b[0m\u001b[0mnp\u001b[0m\u001b[0;34m.\u001b[0m\u001b[0mpi\u001b[0m\u001b[0;34m,\u001b[0m\u001b[0mn\u001b[0m\u001b[0;34m)\u001b[0m\u001b[0;34m)\u001b[0m\u001b[0;34m\u001b[0m\u001b[0;34m\u001b[0m\u001b[0m\n\u001b[0;32m----> 3\u001b[0;31m \u001b[0mprint\u001b[0m\u001b[0;34m(\u001b[0m\u001b[0;34m\"  \"\u001b[0m\u001b[0;34m,\u001b[0m\u001b[0mII\u001b[0m\u001b[0;34m[\u001b[0m\u001b[0;36m0\u001b[0m\u001b[0;34m]\u001b[0m\u001b[0;34m)\u001b[0m\u001b[0;34m\u001b[0m\u001b[0;34m\u001b[0m\u001b[0m\n\u001b[0m",
      "\u001b[0;31mNameError\u001b[0m: name 'II' is not defined"
     ]
    }
   ],
   "source": [
    "for n in range(2,25,2):\n",
    "    print(f\"{n:2d}\",simpsons_rule(lambda x: x**2*np.sin(x)**2,0,np.pi,n))\n",
    "print(\"  \",II[0])"
   ]
  },
  {
   "cell_type": "code",
   "execution_count": null,
   "metadata": {},
   "outputs": [],
   "source": [
    "# Here's another example.\n",
    "# quad(lambda x : 4/(1+x**2),0,1)[0]\n",
    "simpsons_rule(lambda x : 4/(1+x**2),0,1,1000)"
   ]
  }
 ],
 "metadata": {
  "kernelspec": {
   "display_name": "Python 3",
   "language": "python",
   "name": "python3"
  },
  "language_info": {
   "codemirror_mode": {
    "name": "ipython",
    "version": 3
   },
   "file_extension": ".py",
   "mimetype": "text/x-python",
   "name": "python",
   "nbconvert_exporter": "python",
   "pygments_lexer": "ipython3",
   "version": "3.7.6"
  },
  "widgets": {
   "application/vnd.jupyter.widget-state+json": {
    "state": {
     "0a74c2b12edd4cf49ad4eaa7eaa7ccae": {
      "model_module": "@jupyter-widgets/output",
      "model_module_version": "1.0.0",
      "model_name": "OutputModel",
      "state": {
       "layout": "IPY_MODEL_6937b3dcc8a549b0b7b7ee636fc24695",
       "outputs": [
        {
         "data": {
          "image/png": "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\n",
          "text/plain": "<Figure size 432x288 with 1 Axes>"
         },
         "metadata": {
          "needs_background": "light"
         },
         "output_type": "display_data"
        }
       ]
      }
     },
     "1007442cb84244af83ad24e9126a4354": {
      "model_module": "@jupyter-widgets/base",
      "model_module_version": "1.2.0",
      "model_name": "LayoutModel",
      "state": {}
     },
     "133b3e8e77654e41b22e72f4add731c7": {
      "model_module": "@jupyter-widgets/output",
      "model_module_version": "1.0.0",
      "model_name": "OutputModel",
      "state": {
       "layout": "IPY_MODEL_3ee6365cab734799affdf91b8200d563",
       "outputs": [
        {
         "data": {
          "image/png": "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\n",
          "text/plain": "<Figure size 432x288 with 1 Axes>"
         },
         "metadata": {
          "needs_background": "light"
         },
         "output_type": "display_data"
        }
       ]
      }
     },
     "1a81b49aa436490883a30e68b770ea91": {
      "model_module": "@jupyter-widgets/controls",
      "model_module_version": "1.5.0",
      "model_name": "FloatSliderModel",
      "state": {
       "description": "y0",
       "layout": "IPY_MODEL_1007442cb84244af83ad24e9126a4354",
       "max": 3,
       "step": 0.1,
       "style": "IPY_MODEL_b30287e765de446e9aeb884311de2a97",
       "value": 2
      }
     },
     "2d7dd04427c6402ea3a6d7f00a6235fc": {
      "model_module": "@jupyter-widgets/controls",
      "model_module_version": "1.5.0",
      "model_name": "SliderStyleModel",
      "state": {
       "description_width": ""
      }
     },
     "3e4f45e861a7438e92b964046f1f7619": {
      "model_module": "@jupyter-widgets/controls",
      "model_module_version": "1.5.0",
      "model_name": "VBoxModel",
      "state": {
       "_dom_classes": [
        "widget-interact"
       ],
       "children": [
        "IPY_MODEL_7348c42861434c99bc44de59e96bb429",
        "IPY_MODEL_e8ec51aeaeb049adb0b819ed4bf3be69"
       ],
       "layout": "IPY_MODEL_f6d3a1d24e8e4aa8a13987942e1aed6f"
      }
     },
     "3ee6365cab734799affdf91b8200d563": {
      "model_module": "@jupyter-widgets/base",
      "model_module_version": "1.2.0",
      "model_name": "LayoutModel",
      "state": {}
     },
     "4946dd04f85648929d3d0dc9601663af": {
      "model_module": "@jupyter-widgets/output",
      "model_module_version": "1.0.0",
      "model_name": "OutputModel",
      "state": {
       "layout": "IPY_MODEL_ab80d64a5b1746e2badfe879f7a73d81",
       "outputs": [
        {
         "data": {
          "image/png": "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\n",
          "text/plain": "<Figure size 432x288 with 1 Axes>"
         },
         "metadata": {
          "needs_background": "light"
         },
         "output_type": "display_data"
        }
       ]
      }
     },
     "4999661472fa4e18853953212ac0aedb": {
      "model_module": "@jupyter-widgets/controls",
      "model_module_version": "1.5.0",
      "model_name": "SliderStyleModel",
      "state": {
       "description_width": ""
      }
     },
     "6937b3dcc8a549b0b7b7ee636fc24695": {
      "model_module": "@jupyter-widgets/base",
      "model_module_version": "1.2.0",
      "model_name": "LayoutModel",
      "state": {}
     },
     "72a955901e304938887dd3a5d6488d25": {
      "model_module": "@jupyter-widgets/controls",
      "model_module_version": "1.5.0",
      "model_name": "FloatSliderModel",
      "state": {
       "description": "y0",
       "layout": "IPY_MODEL_c70cfe57a6ef4bd1a4d120c4266f7e28",
       "max": 3,
       "step": 0.1,
       "style": "IPY_MODEL_f239734b0395477590f761156ff374c7",
       "value": 1.5
      }
     },
     "7348c42861434c99bc44de59e96bb429": {
      "model_module": "@jupyter-widgets/controls",
      "model_module_version": "1.5.0",
      "model_name": "IntSliderModel",
      "state": {
       "description": "n",
       "layout": "IPY_MODEL_9fa3ef3a340746898f7588ed9a9087f8",
       "max": 30,
       "min": 2,
       "step": 2,
       "style": "IPY_MODEL_4999661472fa4e18853953212ac0aedb",
       "value": 10
      }
     },
     "757f1e5b6e4d40209a83b872f4bfd056": {
      "model_module": "@jupyter-widgets/base",
      "model_module_version": "1.2.0",
      "model_name": "LayoutModel",
      "state": {}
     },
     "7a4a485f36374f73a667266a9f55dfd4": {
      "model_module": "@jupyter-widgets/controls",
      "model_module_version": "1.5.0",
      "model_name": "FloatSliderModel",
      "state": {
       "description": "y1",
       "layout": "IPY_MODEL_9078fb1c23094d9f9d59d5f90b0ec6f0",
       "max": 4,
       "step": 0.1,
       "style": "IPY_MODEL_db8f07f65af4491586db14150582bf86",
       "value": 0.8
      }
     },
     "88d93d379150424eb0bb418c56f6e1fc": {
      "model_module": "@jupyter-widgets/controls",
      "model_module_version": "1.5.0",
      "model_name": "VBoxModel",
      "state": {
       "_dom_classes": [
        "widget-interact"
       ],
       "children": [
        "IPY_MODEL_c7d90f720e604b56a52b195cd5fdf243",
        "IPY_MODEL_133b3e8e77654e41b22e72f4add731c7"
       ],
       "layout": "IPY_MODEL_bde9f9fac4c94e53864898754c32d505"
      }
     },
     "8b25008290854febb5db6d094eb4bf81": {
      "model_module": "@jupyter-widgets/base",
      "model_module_version": "1.2.0",
      "model_name": "LayoutModel",
      "state": {}
     },
     "9078fb1c23094d9f9d59d5f90b0ec6f0": {
      "model_module": "@jupyter-widgets/base",
      "model_module_version": "1.2.0",
      "model_name": "LayoutModel",
      "state": {}
     },
     "9fa3ef3a340746898f7588ed9a9087f8": {
      "model_module": "@jupyter-widgets/base",
      "model_module_version": "1.2.0",
      "model_name": "LayoutModel",
      "state": {}
     },
     "a3ac746f59c84b668045187ce0ccdc42": {
      "model_module": "@jupyter-widgets/controls",
      "model_module_version": "1.5.0",
      "model_name": "FloatSliderModel",
      "state": {
       "description": "y1",
       "layout": "IPY_MODEL_8b25008290854febb5db6d094eb4bf81",
       "max": 4,
       "step": 0.1,
       "style": "IPY_MODEL_d102b195ace44a13b22d0c141ee7a650",
       "value": 2
      }
     },
     "a3ca42008feb4764b10c2c067b6d2826": {
      "model_module": "@jupyter-widgets/controls",
      "model_module_version": "1.5.0",
      "model_name": "SliderStyleModel",
      "state": {
       "description_width": ""
      }
     },
     "ab80d64a5b1746e2badfe879f7a73d81": {
      "model_module": "@jupyter-widgets/base",
      "model_module_version": "1.2.0",
      "model_name": "LayoutModel",
      "state": {}
     },
     "ac673b456ee64d8d934109d00d27b22b": {
      "model_module": "@jupyter-widgets/base",
      "model_module_version": "1.2.0",
      "model_name": "LayoutModel",
      "state": {}
     },
     "b30287e765de446e9aeb884311de2a97": {
      "model_module": "@jupyter-widgets/controls",
      "model_module_version": "1.5.0",
      "model_name": "SliderStyleModel",
      "state": {
       "description_width": ""
      }
     },
     "b53823ac0ce5495a86412bd6f9dbc65a": {
      "model_module": "@jupyter-widgets/base",
      "model_module_version": "1.2.0",
      "model_name": "LayoutModel",
      "state": {}
     },
     "b811ec29b896484b832bf7d38bcc212c": {
      "model_module": "@jupyter-widgets/base",
      "model_module_version": "1.2.0",
      "model_name": "LayoutModel",
      "state": {}
     },
     "bde9f9fac4c94e53864898754c32d505": {
      "model_module": "@jupyter-widgets/base",
      "model_module_version": "1.2.0",
      "model_name": "LayoutModel",
      "state": {}
     },
     "bfdf6e8ae8354f53b6df410a7b116874": {
      "model_module": "@jupyter-widgets/controls",
      "model_module_version": "1.5.0",
      "model_name": "VBoxModel",
      "state": {
       "_dom_classes": [
        "widget-interact"
       ],
       "children": [
        "IPY_MODEL_1a81b49aa436490883a30e68b770ea91",
        "IPY_MODEL_7a4a485f36374f73a667266a9f55dfd4",
        "IPY_MODEL_f5a95b5ed9c74941897fbb15f8cb60e1",
        "IPY_MODEL_0a74c2b12edd4cf49ad4eaa7eaa7ccae"
       ],
       "layout": "IPY_MODEL_cb9b48cc486c4b6f985eec01a0be6174"
      }
     },
     "c235992c9d7544cfa8ea97914e640287": {
      "model_module": "@jupyter-widgets/controls",
      "model_module_version": "1.5.0",
      "model_name": "FloatSliderModel",
      "state": {
       "description": "y2",
       "layout": "IPY_MODEL_ac673b456ee64d8d934109d00d27b22b",
       "max": 3,
       "step": 0.1,
       "style": "IPY_MODEL_a3ca42008feb4764b10c2c067b6d2826",
       "value": 1.5
      }
     },
     "c70cfe57a6ef4bd1a4d120c4266f7e28": {
      "model_module": "@jupyter-widgets/base",
      "model_module_version": "1.2.0",
      "model_name": "LayoutModel",
      "state": {}
     },
     "c7d90f720e604b56a52b195cd5fdf243": {
      "model_module": "@jupyter-widgets/controls",
      "model_module_version": "1.5.0",
      "model_name": "IntSliderModel",
      "state": {
       "description": "n",
       "layout": "IPY_MODEL_d79c635d0b754c0f8481ab427470644e",
       "max": 30,
       "min": 2,
       "step": 2,
       "style": "IPY_MODEL_2d7dd04427c6402ea3a6d7f00a6235fc",
       "value": 16
      }
     },
     "cb9b48cc486c4b6f985eec01a0be6174": {
      "model_module": "@jupyter-widgets/base",
      "model_module_version": "1.2.0",
      "model_name": "LayoutModel",
      "state": {}
     },
     "d102b195ace44a13b22d0c141ee7a650": {
      "model_module": "@jupyter-widgets/controls",
      "model_module_version": "1.5.0",
      "model_name": "SliderStyleModel",
      "state": {
       "description_width": ""
      }
     },
     "d79c635d0b754c0f8481ab427470644e": {
      "model_module": "@jupyter-widgets/base",
      "model_module_version": "1.2.0",
      "model_name": "LayoutModel",
      "state": {}
     },
     "db8f07f65af4491586db14150582bf86": {
      "model_module": "@jupyter-widgets/controls",
      "model_module_version": "1.5.0",
      "model_name": "SliderStyleModel",
      "state": {
       "description_width": ""
      }
     },
     "e8ec51aeaeb049adb0b819ed4bf3be69": {
      "model_module": "@jupyter-widgets/output",
      "model_module_version": "1.0.0",
      "model_name": "OutputModel",
      "state": {
       "layout": "IPY_MODEL_b53823ac0ce5495a86412bd6f9dbc65a",
       "outputs": [
        {
         "data": {
          "image/png": "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\n",
          "text/plain": "<Figure size 432x288 with 1 Axes>"
         },
         "metadata": {
          "needs_background": "light"
         },
         "output_type": "display_data"
        }
       ]
      }
     },
     "ea71c9eeb4bf4fd191404574fd02ba78": {
      "model_module": "@jupyter-widgets/controls",
      "model_module_version": "1.5.0",
      "model_name": "VBoxModel",
      "state": {
       "_dom_classes": [
        "widget-interact"
       ],
       "children": [
        "IPY_MODEL_72a955901e304938887dd3a5d6488d25",
        "IPY_MODEL_a3ac746f59c84b668045187ce0ccdc42",
        "IPY_MODEL_c235992c9d7544cfa8ea97914e640287",
        "IPY_MODEL_4946dd04f85648929d3d0dc9601663af"
       ],
       "layout": "IPY_MODEL_757f1e5b6e4d40209a83b872f4bfd056"
      }
     },
     "edc70ddbb82f4f54956aa8752c45c603": {
      "model_module": "@jupyter-widgets/controls",
      "model_module_version": "1.5.0",
      "model_name": "SliderStyleModel",
      "state": {
       "description_width": ""
      }
     },
     "f239734b0395477590f761156ff374c7": {
      "model_module": "@jupyter-widgets/controls",
      "model_module_version": "1.5.0",
      "model_name": "SliderStyleModel",
      "state": {
       "description_width": ""
      }
     },
     "f5a95b5ed9c74941897fbb15f8cb60e1": {
      "model_module": "@jupyter-widgets/controls",
      "model_module_version": "1.5.0",
      "model_name": "FloatSliderModel",
      "state": {
       "description": "y2",
       "layout": "IPY_MODEL_b811ec29b896484b832bf7d38bcc212c",
       "max": 3,
       "step": 0.1,
       "style": "IPY_MODEL_edc70ddbb82f4f54956aa8752c45c603",
       "value": 2.1
      }
     },
     "f6d3a1d24e8e4aa8a13987942e1aed6f": {
      "model_module": "@jupyter-widgets/base",
      "model_module_version": "1.2.0",
      "model_name": "LayoutModel",
      "state": {}
     }
    },
    "version_major": 2,
    "version_minor": 0
   }
  }
 },
 "nbformat": 4,
 "nbformat_minor": 4
}
