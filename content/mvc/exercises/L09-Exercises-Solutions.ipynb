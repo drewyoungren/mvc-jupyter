{
 "cells": [
  {
   "cell_type": "code",
   "execution_count": 2,
   "metadata": {},
   "outputs": [],
   "source": [
    "import numpy as np\n",
    "import matplotlib.pyplot as plt\n",
    "from IPython.display import display, HTML, IFrame, YouTubeVideo\n",
    "from ipywidgets import interact,fixed\n",
    "import pandas as pd\n",
    "from numpy import cos,sin,pi,tan,log,exp,sqrt,array,linspace,arange\n",
    "from mpl_toolkits import mplot3d\n",
    "# from mpl_toolkits.mplot3d.art3d import Poly3DCollection\n",
    "\n",
    "from ipywidgets import interact\n",
    "\n",
    "plt.rcParams[\"figure.figsize\"] = [7,7]\n",
    "\n",
    "from numpy.linalg import norm\n",
    "\n",
    "%matplotlib inline\n",
    "\n",
    "# Uncomment the one that corresponds to your Jupyter theme\n",
    "plt.style.use('dark_background')\n",
    "# plt.style.use('fivethirtyeight')\n",
    "# plt.style.use('Solarize_Light2')"
   ]
  },
  {
   "cell_type": "markdown",
   "metadata": {},
   "source": [
    "$\\renewcommand{\\vec}{\\mathbf}$"
   ]
  },
  {
   "cell_type": "markdown",
   "metadata": {},
   "source": [
    "1. Estimate the value of $$f(x,y) = \\sqrt{6-x^2 - y^2}$$ at $(-0.96, 2.02)$. "
   ]
  },
  {
   "cell_type": "markdown",
   "metadata": {
    "jp-MarkdownHeadingCollapsed": true,
    "tags": []
   },
   "source": [
    "##### Solution"
   ]
  },
  {
   "cell_type": "markdown",
   "metadata": {},
   "source": [
    "$$f_x = \\frac{-x}{\\sqrt{6 - x^2 - y^2}}, f_y = \\frac{-y}{\\sqrt{6 - x^2 - y^2}}$$"
   ]
  },
  {
   "cell_type": "markdown",
   "metadata": {},
   "source": [
    "Using $(-1,2)$ as the point around which to linearize, $$f(-0.96, 2.02) \\approx 1 + (1)(0.04) + (-2)(0.02) = 1.0$$ "
   ]
  },
  {
   "cell_type": "code",
   "execution_count": 4,
   "metadata": {},
   "outputs": [
    {
     "data": {
      "text/plain": [
       "0.9989994994993743"
      ]
     },
     "execution_count": 4,
     "metadata": {},
     "output_type": "execute_result"
    }
   ],
   "source": [
    "np.sqrt(6-(-0.96)**2 - (2.02)**2)"
   ]
  },
  {
   "cell_type": "markdown",
   "metadata": {},
   "source": [
    "#### \n",
    "<p style=\"padding-bottom:40%;\"> </p>"
   ]
  },
  {
   "cell_type": "markdown",
   "metadata": {},
   "source": [
    "2. A shoebox is designed to be $12'' \\times 7'' \\times 4''$. Estimate the relative error of the Volume if each dimension has a relative error of $0.5\\%$. "
   ]
  },
  {
   "cell_type": "markdown",
   "metadata": {
    "jp-MarkdownHeadingCollapsed": true,
    "tags": []
   },
   "source": [
    "##### Solution"
   ]
  },
  {
   "cell_type": "markdown",
   "metadata": {},
   "source": [
    "$V = lwh$ so we estimate $$\\Delta V \\approx dV = wh\\,dl + lw\\,dh + lh\\,dw$$ and thus relative error is \n",
    "  $$\\frac{\\Delta V}{V} \\approx \\frac{dV}{V} = ( wh\\,dl + lw\\,dh + lh\\,dw)/(lwh)  = \\frac{dl}{l} + \\frac{dh}{h} + \\frac{dw}{w} = 1.5\\%$$"
   ]
  },
  {
   "cell_type": "markdown",
   "metadata": {},
   "source": [
    "Notice the dimensions themselves make no difference here, but that is special to this example. "
   ]
  },
  {
   "cell_type": "markdown",
   "metadata": {},
   "source": [
    "#### \n",
    "<p style=\"padding-bottom:40%;\"> </p>"
   ]
  },
  {
   "cell_type": "markdown",
   "metadata": {
    "slideshow": {
     "slide_type": "slide"
    }
   },
   "source": [
    "3. Estimating error\n",
    "\n",
    "The total resistance $R$ from a circuit with two resistors wired in parallel is given by $$\\frac1R = \\frac{1}{R_1} + \\frac{1}{R_2}.$$ Suppose a $3\\Omega$ and a $5\\Omega$ resistor are wired in parallel. Use lineariztion to estimate the total error if each resistor has a relative error of 1%.  "
   ]
  },
  {
   "cell_type": "markdown",
   "metadata": {
    "jp-MarkdownHeadingCollapsed": true,
    "tags": []
   },
   "source": [
    "##### Solution"
   ]
  },
  {
   "cell_type": "markdown",
   "metadata": {},
   "source": [
    "Denote $R_1$ and $R_2$ by $x$ and $y$, respectively, for convenience.\n",
    "\n",
    "\\begin{align*}\n",
    "    R &= \\frac{xy}{x+y} \\\\\n",
    "    dR &= \\frac{y^2}{(x+y)^2} dx + \\frac{x^2}{(x+y)^2} dy\n",
    "\\end{align*}\n",
    "\n",
    "$dx = .03$ and $dy = .05$, so the change in resistance is approximately  $0.01875\\Omega$, which is exactly $1\\%$."
   ]
  },
  {
   "cell_type": "markdown",
   "metadata": {},
   "source": [
    "#### \n",
    "<p style=\"padding-bottom:40%;\"> </p>"
   ]
  }
 ],
 "metadata": {
  "kernelspec": {
   "display_name": "Python 3 (ipykernel)",
   "language": "python",
   "name": "python3"
  },
  "language_info": {
   "codemirror_mode": {
    "name": "ipython",
    "version": 3
   },
   "file_extension": ".py",
   "mimetype": "text/x-python",
   "name": "python",
   "nbconvert_exporter": "python",
   "pygments_lexer": "ipython3",
   "version": "3.9.8"
  },
  "widgets": {
   "application/vnd.jupyter.widget-state+json": {
    "state": {},
    "version_major": 2,
    "version_minor": 0
   }
  }
 },
 "nbformat": 4,
 "nbformat_minor": 4
}
