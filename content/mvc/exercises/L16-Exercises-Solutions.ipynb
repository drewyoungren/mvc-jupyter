{
 "cells": [
  {
   "cell_type": "code",
   "execution_count": 1,
   "metadata": {
    "jupyter": {
     "source_hidden": true
    },
    "tags": []
   },
   "outputs": [],
   "source": [
    "import numpy as np\n",
    "import matplotlib.pyplot as plt\n",
    "from IPython.display import display, HTML, IFrame\n",
    "from ipywidgets import interact,fixed\n",
    "from mpl_toolkits import mplot3d\n",
    "\n",
    "from numpy.linalg import norm\n",
    "from numpy import cos,sin,tan,arctan,exp,log,pi,sqrt,arccos,linspace,array,arange,meshgrid,abs,arcsin\n",
    "\n",
    "from ipykernel.pylab.backend_inline import flush_figures\n",
    "\n",
    "from scipy.integrate import quad, dblquad, tplquad\n",
    "\n",
    "%matplotlib inline\n",
    "\n",
    "plt.rcParams.update({\n",
    "    \"figure.figsize\": (6,6),\n",
    "    \"text.usetex\": True,\n",
    "    \"font.family\": \"serif\",\n",
    "})\n",
    "\n",
    "# Uncomment the one that corresponds to your Jupyter theme\n",
    "plt.style.use('default')\n",
    "# plt.style.use('dark_background')\n",
    "# plt.style.use('fivethirtyeight')\n",
    "# plt.style.use('Solarize_Light2')"
   ]
  },
  {
   "cell_type": "markdown",
   "metadata": {},
   "source": [
    "### Example\n",
    "\n",
    "Consider the region $ E\\subset\\RR^3$ bounded defined by $$-1 \\leq x \\leq 1$$ $$ -1 \\leq y \\leq 1$$ $$ -2 \\leq z \\leq 2^x.$$ "
   ]
  },
  {
   "cell_type": "code",
   "execution_count": 2,
   "metadata": {
    "hide_input": true,
    "jupyter": {
     "source_hidden": true
    },
    "slideshow": {
     "slide_type": "fragment"
    },
    "tags": []
   },
   "outputs": [
    {
     "data": {
      "application/vnd.jupyter.widget-view+json": {
       "model_id": "f0bc29f17b124beea3b460eaf1e55260",
       "version_major": 2,
       "version_minor": 0
      },
      "text/plain": [
       "interactive(children=(IntSlider(value=-24, description='angle', max=66, min=-108, step=6), IntSlider(value=42,…"
      ]
     },
     "metadata": {},
     "output_type": "display_data"
    }
   ],
   "source": [
    "@interact(angle=(-108,66,6))\n",
    "def _(angle=-24,vangle=(0,90,6)):\n",
    "    fig = plt.figure(figsize=(6,6))\n",
    "    ax= fig.add_subplot(111,projection='3d')\n",
    "    u = np.linspace(-1,1,80)\n",
    "    v = np.linspace(-1,1,80)\n",
    "    U,V = np.meshgrid(u,v)\n",
    "    X = U\n",
    "    Y = V\n",
    "    Z = 2**U\n",
    "    ax.plot_wireframe(X,Y,Z,rcount=20,ccount=20)\n",
    "    ax.plot_surface(X,Y,0*X - 2,rcount=20,ccount=20,color='gray',alpha=.4)\n",
    "    ax.plot_surface(0*X -1,Y,1.25*X - .75,rcount=20,ccount=20,color='gray',alpha=.4)\n",
    "    ax.plot_surface(0*X + 1,Y,2*X,rcount=20,ccount=20,color='gray',alpha=.4)\n",
    "    ax.plot_surface(X,0*Y+1,(2**X + 2)/2*Y + (2**X - 2)/2 ,rcount=20,ccount=20,color='blue',alpha=.3)\n",
    "    ax.plot_surface(X,0*Y-1,(2**X + 2)/2*Y + (2**X - 2)/2 ,rcount=20,ccount=20,color='blue',alpha=.3)\n",
    "    ax.view_init(vangle,angle)\n",
    "    \n",
    "    for c in 'xyz':\n",
    "#         getattr(ax,f\"set_{c}lim\")([-1,1]);    \n",
    "        getattr(ax,f\"set_{c}label\")(f\"${c}$\",size=16)\n",
    "    flush_figures()"
   ]
  },
  {
   "cell_type": "markdown",
   "metadata": {},
   "source": [
    "Which of the following triple integrals is greatest?\n",
    "\n",
    "  a. $$\\iiint_E x\\,dV$$\n",
    "  b. $$\\iiint_E -x^2\\,dV$$\n",
    "  c. $$\\iiint_E y\\,dV$$\n",
    "  d. $$\\iiint_E z\\,dV$$\n",
    "  e. $$\\iiint_E y^3\\,dV$$"
   ]
  },
  {
   "cell_type": "markdown",
   "metadata": {
    "jp-MarkdownHeadingCollapsed": true,
    "tags": []
   },
   "source": [
    "#### Solution"
   ]
  },
  {
   "cell_type": "markdown",
   "metadata": {
    "tags": []
   },
   "source": [
    "**a.** There is more \"stuff\" on the positive $x$ side when $z > 1/2$.  "
   ]
  },
  {
   "cell_type": "markdown",
   "metadata": {},
   "source": [
    "####\n",
    "<div style=\"padding-bottom: 40%\"></div>"
   ]
  },
  {
   "cell_type": "markdown",
   "metadata": {
    "slideshow": {
     "slide_type": "subslide"
    }
   },
   "source": [
    "### Example\n",
    "\n",
    "Write the triple integral $\\iiint_E f(x,y,z)\\,dV$ where E is the region in the first octant bounded by $z = 1-x$ and $y = x^2$ as three different iterated integrals. "
   ]
  },
  {
   "cell_type": "code",
   "execution_count": 3,
   "metadata": {
    "hide_input": true,
    "jupyter": {
     "source_hidden": true
    },
    "slideshow": {
     "slide_type": "fragment"
    },
    "tags": []
   },
   "outputs": [
    {
     "data": {
      "application/vnd.jupyter.widget-view+json": {
       "model_id": "975bb17160f14995b2f9973b36e1e6f3",
       "version_major": 2,
       "version_minor": 0
      },
      "text/plain": [
       "interactive(children=(IntSlider(value=-24, description='angle', max=66, min=-108, step=6), IntSlider(value=42,…"
      ]
     },
     "metadata": {},
     "output_type": "display_data"
    }
   ],
   "source": [
    "@interact(angle=(-108,66,6))\n",
    "def _(angle=-24,vangle=(0,90,6)):\n",
    "    fig = plt.figure(figsize=(7,7))\n",
    "    ax= fig.add_subplot(111,projection='3d')\n",
    "    u = np.linspace(0,1,80)\n",
    "    v = np.linspace(0,1,80)\n",
    "    U,V = np.meshgrid(u,v)\n",
    "    X = U\n",
    "    Y = V*(U**2)\n",
    "    Z = 1-X\n",
    "    ax.plot_wireframe(X,Y,Z,rcount=20,ccount=20)\n",
    "    ax.plot_surface(X,Y,0*X,rcount=20,ccount=20,color='gray',alpha=.4)\n",
    "    ax.view_init(vangle,angle)\n",
    "    \n",
    "    ax.plot_wireframe(U,U**2,V*(1-U),rcount=20,ccount=20)\n",
    "    ax.plot_surface(X,0*X,V*(1-U),rcount=20,ccount=20,color='gray',alpha=.4)\n",
    "# ???    t = np.linspace(0,1,26)\n",
    "#     for x in r:\n",
    "#         ax.plot(x*np.ones_like(t),t*pi/3,'k')\n",
    "#     for y in th:\n",
    "#         ax.plot(1+t,y*np.ones_like(t),'k')\n",
    "    for c in 'xyz':\n",
    "#         getattr(ax,f\"set_{c}lim\")([-1,1]);    \n",
    "        getattr(ax,f\"set_{c}label\")(f\"${c}$\",size=16)\n",
    "    flush_figures();"
   ]
  },
  {
   "cell_type": "markdown",
   "metadata": {
    "slideshow": {
     "slide_type": "fragment"
    },
    "tags": []
   },
   "source": [
    "#### Solutions"
   ]
  },
  {
   "cell_type": "markdown",
   "metadata": {
    "slideshow": {
     "slide_type": "fragment"
    }
   },
   "source": [
    "$$\\int_{0}^{1} \\int_{0}^{1-x} \\int_{0}^{x^2} f(x,y,z)\\,dy \\,dz \\, dx $$\n",
    "\n",
    "$$\\int_{0}^{1} \\int_{0}^{1-z} \\int_{0}^{x^2} f(x,y,z)\\,dy \\,dx \\, dz $$\n",
    "\n",
    "$$\\int_{0}^{1} \\int_{0}^{x^2} \\int_{0}^{1-x} f(x,y,z)\\,dz \\,dy \\, dx $$\n",
    "\n",
    "$$\\int_{0}^{1} \\int_{0}^{\\sqrt{y}} \\int_{0}^{1-x} f(x,y,z)\\,dz \\,dx \\, dy $$\n",
    "\n",
    "And ..."
   ]
  },
  {
   "cell_type": "markdown",
   "metadata": {
    "slideshow": {
     "slide_type": "fragment"
    }
   },
   "source": [
    "$$\\int_{0}^{1} \\int_{0}^{(1-z)^2} \\int_{\\sqrt{y}}^{1-z} f(x,y,z)\\,dx \\,dy \\, dz $$\n",
    "\n",
    "$$\\int_{0}^{1} \\int_{0}^{1-\\sqrt{y}} \\int_{\\sqrt{y}}^{1-z} f(x,y,z)\\,dx \\,dz \\, dy $$"
   ]
  },
  {
   "cell_type": "markdown",
   "metadata": {},
   "source": [
    "####\n",
    "<div style=\"padding-bottom: 40%\"></div>"
   ]
  },
  {
   "cell_type": "markdown",
   "metadata": {
    "slideshow": {
     "slide_type": "subslide"
    }
   },
   "source": [
    "### Exercise\n",
    "\n",
    "Sketch the region in the first octant bounded by the planes $z=1$, $z = x$, and $z=y$ and express the triple integral of an arbitrary integrand over this region as an iterated integral. \n",
    "\n",
    "Start by sketching the regions \"shadow\" in each of the \n",
    "  - $xy$-\n",
    "  - $xz$-\n",
    "  - $yz$-planes."
   ]
  },
  {
   "cell_type": "code",
   "execution_count": 4,
   "metadata": {
    "hide_input": true,
    "jupyter": {
     "source_hidden": true
    },
    "slideshow": {
     "slide_type": "fragment"
    }
   },
   "outputs": [
    {
     "data": {
      "application/vnd.jupyter.widget-view+json": {
       "model_id": "5678f058d6944d88947b56c87ef7e8cb",
       "version_major": 2,
       "version_minor": 0
      },
      "text/plain": [
       "interactive(children=(IntSlider(value=-24, description='angle', max=66, min=-108, step=6), IntSlider(value=42,…"
      ]
     },
     "metadata": {},
     "output_type": "display_data"
    }
   ],
   "source": [
    "@interact(angle=(-108,66,6))\n",
    "def _(angle=-24,vangle=(0,90,6)):\n",
    "    fig = plt.figure(figsize=(10,10))\n",
    "    ax= fig.add_subplot(111,projection='3d')\n",
    "    u = np.linspace(0,1,80)\n",
    "    v = np.linspace(0,1,80)\n",
    "    U,V = np.meshgrid(u,v)\n",
    "    X = U\n",
    "    Y = V\n",
    "    Z = np.ones_like(U)\n",
    "    ax.plot_wireframe(X,Y,Z,rcount=20,ccount=20)\n",
    "#     ax.plot_surface(X,Y,0*X,rcount=20,ccount=20,color='gray',alpha=.4)\n",
    "    ax.view_init(vangle,angle)\n",
    "    \n",
    "    ax.plot_wireframe(U,U*V,U,rcount=20,ccount=20)\n",
    "    ax.plot_wireframe(U*V,U,U,rcount=20,ccount=20)\n",
    "    ax.plot_surface(U,0*X,U+V*(1-U),rcount=20,ccount=20,color='gray',alpha=.4)\n",
    "    ax.plot_surface(U*0,U,U+V*(1-U),rcount=20,ccount=20,color='gray',alpha=.4)\n",
    "\n",
    "    for c in 'xyz':\n",
    "#         getattr(ax,f\"set_{c}lim\")([-1,1]);    \n",
    "        getattr(ax,f\"set_{c}label\")(f\"${c}$\",size=16)\n",
    "    "
   ]
  },
  {
   "cell_type": "markdown",
   "metadata": {},
   "source": [
    "<div style=\"padding-bottom: 40%\"></div>"
   ]
  },
  {
   "cell_type": "markdown",
   "metadata": {
    "slideshow": {
     "slide_type": "subslide"
    }
   },
   "source": [
    "# Cylindrical/Spherical Coordinates\n",
    "\n",
    "### Quick Exercise\n",
    "\n",
    "We know the equations $x=1$, $y=1$, and $z=1$ represent planes perpendicular to the respective access. Identify each of the following sets in the new coordinates.\n",
    "\n",
    "  1. $r=1$\n",
    "  2. $\\theta = 1$\n",
    "  3. $\\rho = 1$\n",
    "  4. $\\phi = 1$"
   ]
  },
  {
   "cell_type": "markdown",
   "metadata": {
    "jp-MarkdownHeadingCollapsed": true,
    "tags": []
   },
   "source": [
    "#### Solution"
   ]
  },
  {
   "cell_type": "code",
   "execution_count": 5,
   "metadata": {
    "hide_input": true,
    "jupyter": {
     "source_hidden": true
    },
    "tags": []
   },
   "outputs": [
    {
     "data": {
      "application/vnd.jupyter.widget-view+json": {
       "model_id": "9e16c071984644508c41f8ff959a688a",
       "version_major": 2,
       "version_minor": 0
      },
      "text/plain": [
       "interactive(children=(IntSlider(value=0, description='angle', max=90, min=-90, step=6), Dropdown(description='…"
      ]
     },
     "metadata": {},
     "output_type": "display_data"
    }
   ],
   "source": [
    "@interact\n",
    "def _(angle=(-90,90,6),coord=['r','theta','rho','phi']):\n",
    "    fig = plt.figure(figsize=(10,10))\n",
    "    ax=fig.add_subplot(111,projection='3d')\n",
    "    ax.view_init(30,angle)\n",
    "    u = v = np.linspace(0,1,100)\n",
    "    u,v = np.meshgrid(u,v)\n",
    "    if coord == 'r':\n",
    "        ax.plot_surface(cos(2*pi*v),sin(2*pi*v),2*u-1,alpha=.5)\n",
    "    elif coord == 'theta':\n",
    "        ax.plot_surface(sqrt(2)*v*cos(1),sqrt(2)*v*sin(1),2*u-1,alpha=.5)\n",
    "    elif coord == 'rho':\n",
    "        ax.plot_surface(sin(pi*u)*cos(2*pi*v),sin(pi*u)*sin(2*pi*v),cos(pi*u),alpha=.5)\n",
    "    elif coord == 'phi':\n",
    "        ax.plot_surface(sin(1)*u*cos(2*pi*v),sin(1)*u*sin(2*pi*v),cos(1)*u,alpha=.5)\n",
    "    ax.plot([-1,1],[0,0],[0,0],'k',lw=3)\n",
    "    ax.plot([0,0],[-1,1],[0,0],'k',lw=3)\n",
    "    ax.plot([0,0],[0,0],[-1,1],'k',lw=3)\n",
    "    for c in 'xyz':\n",
    "#         getattr(ax,f\"set_{c}lim\")([-1,1]);    \n",
    "        getattr(ax,f\"set_{c}label\")(f\"${c}$\",size=16)\n",
    "    flush_figures();"
   ]
  },
  {
   "cell_type": "markdown",
   "metadata": {},
   "source": [
    "####\n",
    "<div style=\"padding-bottom: 40%\"></div>"
   ]
  },
  {
   "cell_type": "markdown",
   "metadata": {
    "tags": []
   },
   "source": [
    "### Exercise"
   ]
  },
  {
   "cell_type": "markdown",
   "metadata": {
    "tags": []
   },
   "source": [
    "Each row of the table below represents a point in $\\mathbb{R}^3$. Fill in the missing values.\n",
    "\n",
    "<table>\n",
    "    <hr>\n",
    "    <td> $x$ </td>    <td> $y$ </td>    <td> $z$ </td>\n",
    "    <td> $r$ </td>    <td> $\\theta$ </td>    <td> $\\rho$ </td>    <td> $\\phi$ </td>\n",
    "    </hr>\n",
    "    <tr>\n",
    "    <td> $2$ </td>    <td> $2$ </td>    <td> $2$ </td>\n",
    "    <td> $\\ $  </td>   <td> $\\ $ </td>    <td> $\\ $ </td>    <td> $\\ $ </td>\n",
    "    </tr>\n",
    "    <tr>\n",
    "    <td> $\\ $  </td>    <td> $\\ $  </td>    <td> $2$ </td>\n",
    "    <td> $3/2$ </td>    <td> $\\pi$ </td>    <td> $\\ $ </td>    <td> $\\ $ </td>\n",
    "    </tr>\n",
    "    <tr>\n",
    "    <td> $\\ $ </td>    <td> $\\ $ \n",
    "    $\\ $</td>    <td> $\\ $ </td>\n",
    "    <td> $\\ $ </td>    <td> $\\pi/6$ </td>    <td> $\\sqrt{2}$ </td>    <td> $3\\pi/4$</td>\n",
    "    </tr>\n",
    "    <tr>\n",
    "    <td> $5$ </td>    <td> $1$ </td>    <td> $\\ $ </td>\n",
    "    <td> $\\ $ </td>    <td> $\\ $ </td>    <td> $\\ $ </td>    <td> $2\\pi/3$ </td>\n",
    "    </tr>\n",
    "</table>"
   ]
  },
  {
   "cell_type": "markdown",
   "metadata": {
    "jp-MarkdownHeadingCollapsed": true,
    "tags": []
   },
   "source": [
    "#### Solution"
   ]
  },
  {
   "cell_type": "markdown",
   "metadata": {
    "tags": []
   },
   "source": [
    "<table>\n",
    "    <hr>\n",
    "    <td> $x$ </td>    <td> $y$ </td>    <td> $z$ </td>\n",
    "    <td> $r$ </td>    <td> $\\theta$ </td>    <td> $\\rho$ </td>    <td> $\\phi$ </td>\n",
    "    </hr>\n",
    "    <tr>\n",
    "    <td> $2$ </td>    <td> $2$ </td>    <td> $2$ </td>\n",
    "    <td> $2\\sqrt{2}$  </td>   <td> $\\pi/4$ </td>    <td> $2\\sqrt{3}$ </td>    <td> $\\cos^{-1}(1/\\sqrt{3})$ </td>\n",
    "    </tr>\n",
    "    <tr>\n",
    "    <td> $-3/2$  </td>    <td> $0$  </td>    <td> $2$ </td>\n",
    "    <td> $3/2$ </td>    <td> $\\pi$ </td>    <td> $5/2$ </td>    <td> $\\cos^{-1}(4/5)$ </td>\n",
    "    </tr>\n",
    "    <tr>\n",
    "    <td> $\\sqrt{3}/2$ </td>    <td> \n",
    "    $1/2$</td>    <td> $-1$ </td>\n",
    "    <td> $1$ </td>    <td> $\\pi/6$ </td>    <td> $\\sqrt{2}$ </td>    <td> $3\\pi/4$</td>\n",
    "    </tr>\n",
    "    <tr>\n",
    "    <td> $5$ </td>    <td> $1$ </td>    <td> $-\\sqrt{26/3}$ </td>\n",
    "    <td> $\\sqrt{26}$ </td>    <td> $\\tan^{-1}(1/5)$ </td>    <td> $2\\sqrt{26/3}$ </td>    <td> $2\\pi/3$ </td>\n",
    "    </tr>\n",
    "</table>"
   ]
  },
  {
   "cell_type": "markdown",
   "metadata": {},
   "source": [
    "####\n",
    "<div style=\"padding-bottom: 40%\"></div>"
   ]
  },
  {
   "cell_type": "markdown",
   "metadata": {},
   "source": [
    "#### Quick questions\n",
    "\n",
    "  - How would you relate latitude and longitude to our definitions of $\\phi$ and $\\theta$?"
   ]
  },
  {
   "cell_type": "markdown",
   "metadata": {},
   "source": [
    "**Solution** \n",
    "   $\\theta$ is much like longitude. $\\phi$ is like latitude but measured down from the North Pole instead of up from the equator.\n",
    "\n",
    "  - Using this, what are the spherical coordinates of Morningside Heights?\n",
    "\n",
    "  - Where is the point on earth where $\\phi = \\frac\\pi4 = -\\theta$?\n",
    "  "
   ]
  },
  {
   "cell_type": "markdown",
   "metadata": {},
   "source": [
    "<div style=\"padding-bottom: 40%\"></div>"
   ]
  },
  {
   "cell_type": "markdown",
   "metadata": {},
   "source": [
    "## Example\n",
    "\n",
    "Find, in terms of constant $a>0$, the centroid of the solid region\n",
    "\n",
    "$$ 0 \\leq z \\leq a^2 - x^2 - y^2.$$"
   ]
  },
  {
   "cell_type": "code",
   "execution_count": 6,
   "metadata": {
    "hide_input": true,
    "jupyter": {
     "source_hidden": true
    },
    "tags": []
   },
   "outputs": [
    {
     "data": {
      "application/vnd.jupyter.widget-view+json": {
       "model_id": "e5ffbe4e299d436c86dbf52193f674ed",
       "version_major": 2,
       "version_minor": 0
      },
      "text/plain": [
       "interactive(children=(IntSlider(value=42, description='angle', max=90, step=6), Output()), _dom_classes=('widg…"
      ]
     },
     "metadata": {},
     "output_type": "display_data"
    }
   ],
   "source": [
    "@interact\n",
    "def _(angle=(0,90,6)):\n",
    "    fig = plt.figure(figsize=(7,7))\n",
    "    ax=fig.add_subplot(111,projection='3d')\n",
    "    ax.view_init(angle,30)\n",
    "    u = v = np.linspace(0,1,100)\n",
    "    u,v = np.meshgrid(u,v)\n",
    "\n",
    "    ax.plot_surface(sqrt(2)*u*cos(2*pi*v),sqrt(2)*u*sin(2*pi*v),2*(1-u**2),alpha=.5)\n",
    "    ax.plot_wireframe(sqrt(2)*u*cos(2*pi*v),sqrt(2)*u*sin(2*pi*v),2*(1-u**2),color=(.3,.3,.3),rcount=10,ccount=10)\n",
    "\n",
    "    ax.plot([-1,1],[0,0],[0,0],'k',lw=3)\n",
    "    ax.plot([0,0],[-1,1],[0,0],'k',lw=3)\n",
    "    ax.plot([0,0],[0,0],[0,2],'k',lw=3)\n",
    "    for c in 'xyz':\n",
    "#         getattr(ax,f\"set_{c}lim\")([-1,1]);    \n",
    "        getattr(ax,f\"set_{c}label\")(f\"${c}$\",size=16)\n",
    "    flush_figures()"
   ]
  },
  {
   "cell_type": "markdown",
   "metadata": {
    "jp-MarkdownHeadingCollapsed": true,
    "tags": []
   },
   "source": [
    "#### Solution"
   ]
  },
  {
   "cell_type": "markdown",
   "metadata": {},
   "source": [
    "$\\bar x = \\bar y = 0$ by symmetry. Treating the density as 1, we compute the volume\n",
    "\n",
    "$$V = \\int_0^{2\\pi}\\int_0^a\\int_0^{a^2 - r^2} r \\,dz\\,dr\\,d\\theta = 2\\pi a^4/4$$"
   ]
  },
  {
   "cell_type": "markdown",
   "metadata": {},
   "source": [
    "$$\\bar z = \\frac1V \\int_0^{2\\pi}\\int_0^a\\int_0^{a^2 - r^2} z r \\,dz\\,dr\\,d\\theta $$\n",
    "\n",
    "$$ = \\frac{\\pi a^6/6}{\\pi a^4/2} = \\frac{a^2}{3} $$"
   ]
  },
  {
   "cell_type": "markdown",
   "metadata": {},
   "source": [
    "####\n",
    "<div style=\"padding-bottom: 40%\"></div>"
   ]
  },
  {
   "cell_type": "markdown",
   "metadata": {
    "slideshow": {
     "slide_type": "subslide"
    }
   },
   "source": [
    "## Example\n",
    "\n",
    "Find the centroid of a solid quarter-sphere of radius $R$ and uniform density."
   ]
  },
  {
   "cell_type": "code",
   "execution_count": 7,
   "metadata": {
    "hide_input": true,
    "jupyter": {
     "source_hidden": true
    },
    "tags": []
   },
   "outputs": [
    {
     "data": {
      "application/vnd.jupyter.widget-view+json": {
       "model_id": "caa1729232c746e28b5855760bcd2651",
       "version_major": 2,
       "version_minor": 0
      },
      "text/plain": [
       "interactive(children=(IntSlider(value=45, description='angle', max=135, min=-45, step=6), IntSlider(value=42, …"
      ]
     },
     "metadata": {},
     "output_type": "display_data"
    }
   ],
   "source": [
    "@interact\n",
    "def _(angle=(-45,135,6),vangle=(0,90,6)):\n",
    "    fig = plt.figure(figsize=(7,7))\n",
    "    ax=fig.add_subplot(111,projection='3d')\n",
    "    ax.view_init(vangle,angle)\n",
    "    u = v = np.linspace(0,1,100)\n",
    "    u,v = np.meshgrid(u,v)\n",
    "\n",
    "    ax.plot_wireframe(sin(pi*u)*cos(pi/2*v),sin(pi*u)*sin(pi/2*v),cos(pi*u),alpha=.8,rcount=20)\n",
    "    ax.plot_surface(v*sin(pi*u)*cos(pi/2),v*sin(pi*u)*sin(pi/2),v*cos(pi*u),alpha=.3,color='g')\n",
    "    ax.plot_surface(v*sin(pi*u)*cos(0),v*sin(pi*u)*sin(0),v*cos(pi*u),alpha=.3,color='g')\n",
    "    ax.plot([-1,1],[0,0],[0,0],'k',lw=3)\n",
    "    ax.plot([0,0],[-1,1],[0,0],'k',lw=3)\n",
    "    ax.plot([0,0],[0,0],[-1,1],'k',lw=3)\n",
    "    for c in 'xyz':\n",
    "#         getattr(ax,f\"set_{c}lim\")([-1,1]);    \n",
    "        getattr(ax,f\"set_{c}label\")(f\"${c}$\",size=16)\n",
    "    flush_figures()"
   ]
  },
  {
   "cell_type": "markdown",
   "metadata": {
    "jp-MarkdownHeadingCollapsed": true,
    "tags": []
   },
   "source": [
    "#### Solution"
   ]
  },
  {
   "cell_type": "markdown",
   "metadata": {},
   "source": [
    "$$\\bar x = \\frac1V\\int_0^{\\pi/2}\\int_0^\\pi\\int_0^R (\\rho \\sin\\phi\\cos \\theta)\\rho^2\\sin\\phi \\,d\\rho\\,d\\phi\\,d\\theta $$\n",
    "\n",
    "$$ = \\frac1V\\left(\\int_0^{\\pi/2}\\cos \\theta\\,d\\theta\\right)\\left(\\int_0^\\pi \\sin^2\\phi \\,d\\phi\\right)\\left( \\int_0^R \\rho^3\\,d\\rho \\right) = \\frac{1}{\\pi R^3/3} (1)(\\pi/2)(R^4/4)$$\n",
    "\n",
    "$$(\\bar x,\\bar y,\\bar z) = \\left( \\frac38 R,\\frac38 R,0\\right)$$"
   ]
  },
  {
   "cell_type": "markdown",
   "metadata": {},
   "source": [
    "####\n",
    "<div style=\"padding-bottom: 40%\"></div>"
   ]
  },
  {
   "cell_type": "markdown",
   "metadata": {
    "slideshow": {
     "slide_type": "subslide"
    }
   },
   "source": [
    "## Example\n",
    "\n",
    "Find the moment of inertia of a solid sphere of radius $R$ relative to a central axis.\n",
    "\n",
    "The **radius of gyration** of a body is the distance from the axis of a point-mass with the same mass and moment of inertia. Find it for a sphere."
   ]
  },
  {
   "cell_type": "code",
   "execution_count": 8,
   "metadata": {
    "hide_input": true,
    "jupyter": {
     "source_hidden": true
    },
    "tags": []
   },
   "outputs": [
    {
     "data": {
      "application/vnd.jupyter.widget-view+json": {
       "model_id": "148c34a15c234e799a870592db6db70d",
       "version_major": 2,
       "version_minor": 0
      },
      "text/plain": [
       "interactive(children=(IntSlider(value=42, description='angle', max=90, step=6), Output()), _dom_classes=('widg…"
      ]
     },
     "metadata": {},
     "output_type": "display_data"
    }
   ],
   "source": [
    "@interact\n",
    "def _(angle=(0,90,6)):\n",
    "    tilt = 23.5*pi/180\n",
    "    fig = plt.figure(figsize=(7,7))\n",
    "    ax=fig.add_subplot(111,projection='3d')\n",
    "    ax.view_init(angle,30)\n",
    "    u = v = np.linspace(0,1,100)\n",
    "    u,v = np.meshgrid(u,v)\n",
    "\n",
    "    ax.plot_wireframe(sin(pi*u)*cos(2*pi*v),sin(pi*u)*sin(2*pi*v),cos(pi*u),alpha=1,rcount=12,ccount = 20)\n",
    "    ax.plot_surface(sin(pi*u)*cos(2*pi*v),sin(pi*u)*sin(2*pi*v),cos(pi*u),alpha=.2,color='g')\n",
    "    ax.plot([-1,1],[0,0],[0,0],'k',lw=3)\n",
    "    ax.plot([0,0],[-1,1],[0,0],'k',lw=3)\n",
    "    ax.plot([0,0],[0,0],[-1,1],'k',lw=3)\n",
    "    for c in 'xyz':\n",
    "#         getattr(ax,f\"set_{c}lim\")([-1,1]);    \n",
    "        getattr(ax,f\"set_{c}label\")(f\"${c}$\",size=16)\n",
    "    flush_figures()"
   ]
  },
  {
   "cell_type": "markdown",
   "metadata": {
    "jp-MarkdownHeadingCollapsed": true,
    "tags": []
   },
   "source": [
    "#### Solution"
   ]
  },
  {
   "cell_type": "markdown",
   "metadata": {},
   "source": [
    "Consider the density to be 1.\n",
    "\n",
    "$$M = \\frac43 \\pi R^3 $$\n",
    "\n",
    "The distance to the $z$-axis is $r=\\rho\\sin\\phi$.\n",
    "\n",
    "$$ I = \\int_0^{2\\pi} \\int_0^\\pi \\int_0^R (\\rho \\sin\\phi)^2\\rho^2\\sin\\phi\\,d\\rho\\,d\\phi\\,d\\theta $$ \n",
    "\n",
    "$$= \\frac{8\\pi R^5}{15} = \\frac25 M R^2 $$"
   ]
  },
  {
   "cell_type": "markdown",
   "metadata": {},
   "source": [
    "So the radius of gyration is $\\displaystyle R_g = \\sqrt{\\frac{I}{M}} = \\sqrt{\\frac25}R$."
   ]
  },
  {
   "cell_type": "markdown",
   "metadata": {},
   "source": [
    "####\n",
    "<div style=\"padding-bottom: 40%\"></div>"
   ]
  },
  {
   "cell_type": "markdown",
   "metadata": {},
   "source": [
    "<div style=\"padding-bottom: 40%\"></div>"
   ]
  },
  {
   "cell_type": "markdown",
   "metadata": {},
   "source": [
    "## Triple Integral Example\n",
    "\n",
    "Express the triple integral $\\iiint_E f\\,dV$ as an iterated integral where $E$ is the region above the $xy$-plane and below the surfaces $z=2-x$ and $z=1-y^2$ and $x \\geq 0$."
   ]
  },
  {
   "cell_type": "code",
   "execution_count": 9,
   "metadata": {
    "hide_input": true,
    "jupyter": {
     "source_hidden": true
    },
    "tags": []
   },
   "outputs": [
    {
     "data": {
      "application/vnd.jupyter.widget-view+json": {
       "model_id": "a142f8d843184113ae26676ff49a15a2",
       "version_major": 2,
       "version_minor": 0
      },
      "text/plain": [
       "interactive(children=(IntSlider(value=42, description='angle', max=90, step=6), IntSlider(value=42, descriptio…"
      ]
     },
     "metadata": {},
     "output_type": "display_data"
    }
   ],
   "source": [
    "@interact\n",
    "def _(angle=(0,90,6),vangle=(0,90,6)):\n",
    "    tilt = 23.5*pi/180\n",
    "    fig = plt.figure(figsize=(7,7))\n",
    "    ax=fig.add_subplot(111,projection='3d')\n",
    "    ax.view_init(vangle,angle)\n",
    "    u = v = np.linspace(0,1,100)\n",
    "    u,v = np.meshgrid(u,v)\n",
    "\n",
    "    ax.plot_wireframe((2-u)*v,sqrt(1-u),u,alpha=1,rcount=10,ccount = 10)\n",
    "    ax.plot_surface((2-u)*v,sqrt(1-u),u,alpha=.3,color='g')\n",
    "    ax.plot_wireframe((2-u)*v,-sqrt(1-u),u,alpha=1,rcount=10,ccount = 10)\n",
    "    ax.plot_surface((2-u)*v,-sqrt(1-u),u,alpha=.3,color='g')\n",
    "    ax.plot_wireframe((2-u),(1-2*v)*sqrt(1-u),u,alpha=1,rcount=10,ccount = 10)\n",
    "    ax.plot_surface((2-u),(1-2*v)*sqrt(1-u),u,alpha=.3,color='b')\n",
    "    ax.plot([-0,2],[0,0],[0,0],'k',lw=3)\n",
    "    ax.plot([0,0],[-1,1],[0,0],'k',lw=3)\n",
    "    ax.plot([0,0],[0,0],[0,2],'k',lw=3)\n",
    "    for c in 'xyz':\n",
    "#         getattr(ax,f\"set_{c}lim\")([-1,1]);    \n",
    "        getattr(ax,f\"set_{c}label\")(f\"${c}$\",size=16)\n",
    "    flush_figures();"
   ]
  },
  {
   "cell_type": "markdown",
   "metadata": {
    "jp-MarkdownHeadingCollapsed": true,
    "tags": []
   },
   "source": [
    "#### Solution"
   ]
  },
  {
   "cell_type": "markdown",
   "metadata": {},
   "source": [
    "$$ \\int_{-1}^1 \\int_0^{1-y^2} \\int_0^{2-z} f(x,y,z)\\,dx\\,dz\\,dy $$"
   ]
  },
  {
   "cell_type": "markdown",
   "metadata": {},
   "source": [
    "$$ \\int_{0}^1 \\int_0^{2-z} \\int_{-\\sqrt{1-z}}^{\\sqrt{1-z}} f(x,y,z)\\,dy\\,dx\\,dz $$"
   ]
  },
  {
   "cell_type": "markdown",
   "metadata": {},
   "source": [
    "####\n",
    "<div style=\"padding-bottom: 40%\"></div>"
   ]
  },
  {
   "cell_type": "markdown",
   "metadata": {
    "slideshow": {
     "slide_type": "subslide"
    }
   },
   "source": [
    "## Example\n",
    "\n",
    "Find the mass of a right cone with height $h$ and radius (at base) $R$. and uniform density $\\rho$."
   ]
  },
  {
   "cell_type": "code",
   "execution_count": 10,
   "metadata": {
    "hide_input": true,
    "jupyter": {
     "source_hidden": true
    },
    "tags": []
   },
   "outputs": [
    {
     "data": {
      "application/vnd.jupyter.widget-view+json": {
       "model_id": "2b09cbc16da04663868caa7f8c0e51db",
       "version_major": 2,
       "version_minor": 0
      },
      "text/plain": [
       "interactive(children=(IntSlider(value=42, description='angle', max=90, step=6), Output()), _dom_classes=('widg…"
      ]
     },
     "metadata": {},
     "output_type": "display_data"
    }
   ],
   "source": [
    "@interact\n",
    "def _(angle=(0,90,6)):\n",
    "    fig = plt.figure(figsize=(7,7))\n",
    "    ax=fig.add_subplot(111,projection='3d')\n",
    "    ax.view_init(angle,30)\n",
    "    u = v = np.linspace(0,1,100)\n",
    "    u,v = np.meshgrid(u,v)\n",
    "\n",
    "    ax.plot_surface(sin(1)*u*cos(2*pi*v),sin(1)*u*sin(2*pi*v),2-2*u,alpha=.5)\n",
    "    ax.plot_wireframe(sin(1)*u*cos(2*pi*v),sin(1)*u*sin(2*pi*v),2-2*u,color=(.3,.3,.3),rcount=10,ccount=10)\n",
    "\n",
    "    ax.plot([-1,1],[0,0],[0,0],'k',lw=3)\n",
    "    ax.plot([0,0],[-1,1],[0,0],'k',lw=3)\n",
    "    ax.plot([0,0],[0,0],[0,2],'k',lw=3)\n",
    "    for c in 'xyz':\n",
    "#         getattr(ax,f\"set_{c}lim\")([-1,1]);    \n",
    "        getattr(ax,f\"set_{c}label\")(f\"${c}$\",size=16)\n",
    "    flush_figures();"
   ]
  },
  {
   "cell_type": "markdown",
   "metadata": {
    "slideshow": {
     "slide_type": "subslide"
    }
   },
   "source": [
    "<br>\n",
    "<div style=\"background:#cfcfee\">**Caution!** When doing these sorts of applications, do not confuse the density $\\rho$ with the polar coordinate $\\rho$. Choose variables wisely.</div>"
   ]
  },
  {
   "cell_type": "markdown",
   "metadata": {
    "slideshow": {
     "slide_type": "subslide"
    }
   },
   "source": [
    "Find the moment of inertia relative to its central axis. "
   ]
  },
  {
   "cell_type": "markdown",
   "metadata": {
    "jp-MarkdownHeadingCollapsed": true,
    "tags": []
   },
   "source": [
    "#### Solution"
   ]
  },
  {
   "cell_type": "markdown",
   "metadata": {},
   "source": [
    "$$ M = \\int_0^{2\\pi} \\int_0^R \\int_0^{h-\\frac{h}{R}r} \\rho r\\,dz\\,dr\\,d\\theta = \\frac\\pi3 R^2h\\rho$$"
   ]
  },
  {
   "cell_type": "markdown",
   "metadata": {},
   "source": [
    "$r$ is the distance to the $z$-axis, so we are just integrating $r^2$. \n",
    "\n",
    "$$ I = \\int_0^{2\\pi} \\int_0^R \\int_0^{h-\\frac{h}{R}r} \\rho r^3\\,dz\\,dr\\,d\\theta = \\frac{\\pi R^{4} h \\rho}{10} = \\frac{3}{10}MR^2 $$"
   ]
  },
  {
   "cell_type": "markdown",
   "metadata": {},
   "source": [
    "####\n",
    "<div style=\"padding-bottom: 40%\"></div>"
   ]
  },
  {
   "cell_type": "markdown",
   "metadata": {
    "hide_input": true,
    "slideshow": {
     "slide_type": "subslide"
    }
   },
   "source": [
    "## Example\n",
    "\n",
    "Find the volume of the following \"stadium\". The inner wall is part of a sphere of radius 2 and the outer wall is a cylinder of radius 4 and has height 4."
   ]
  },
  {
   "cell_type": "code",
   "execution_count": 11,
   "metadata": {
    "hide_input": true,
    "jupyter": {
     "source_hidden": true
    },
    "tags": []
   },
   "outputs": [
    {
     "data": {
      "application/vnd.jupyter.widget-view+json": {
       "model_id": "872fe7ca0815444d81ae96a313ef51cc",
       "version_major": 2,
       "version_minor": 0
      },
      "text/plain": [
       "interactive(children=(IntSlider(value=42, description='angle', max=90, step=6), IntSlider(value=42, descriptio…"
      ]
     },
     "metadata": {},
     "output_type": "display_data"
    }
   ],
   "source": [
    "@interact\n",
    "def _(angle=(0,90,6),vangle=(0,90,6)):\n",
    "    tilt = 23.5*pi/180\n",
    "    fig = plt.figure(figsize=(7,7))\n",
    "    ax=fig.add_subplot(111,projection='3d')\n",
    "    ax.view_init(vangle,angle)\n",
    "    u = np.linspace(0,1,100)\n",
    "    v = np.linspace(1/4,1,70)\n",
    "    u,v = np.meshgrid(u,v)\n",
    "\n",
    "    ax.plot_wireframe(2*sin(pi/4 + pi/4*u)*cos(2*pi*v),2*sin(pi/4 + pi/4*u)*sin(2*pi*v),2*cos(pi/4 + pi/4*u),alpha=1,rcount=12,ccount = 6)\n",
    "    ax.plot_surface(2*sin(pi/4 + pi/4*u)*cos(2*pi*v),2*sin(pi/4 + pi/4*u)*sin(2*pi*v),2*cos(pi/4 + pi/4*u),alpha=.2,color='g')\n",
    "    ax.plot_wireframe((2+(4*sqrt(2) - 2)*u)*sin(pi/4)*cos(2*pi*v),(2+(4*sqrt(2) - 2)*u)*sin(pi/4)*sin(2*pi*v),(2+(4*sqrt(2) - 2)*u)*cos(pi/4),alpha=1,rcount=12,ccount = 6)\n",
    "    ax.plot_surface((2+(4*sqrt(2) - 2)*u)*sin(pi/4)*cos(2*pi*v),(2+(4*sqrt(2) - 2)*u)*sin(pi/4)*sin(2*pi*v),(2+(4*sqrt(2) - 2)*u)*cos(pi/4),alpha=.2,color='g')\n",
    "    ax.plot_wireframe(4*cos(2*pi*v),4*sin(2*pi*v),4*u,alpha=1,rcount=12,ccount = 6)\n",
    "    ax.plot_surface(4*cos(2*pi*v),4*sin(2*pi*v),4*u,alpha=.2,color='g')\n",
    "    ax.plot([-4,4],[0,0],[0,0],'k',lw=3)\n",
    "    ax.plot([0,0],[-4,4],[0,0],'k',lw=3)\n",
    "    ax.plot([0,0],[0,0],[0,8],'k',lw=3)\n",
    "    for c in 'xyz':\n",
    "#         getattr(ax,f\"set_{c}lim\")([-1,1]);    \n",
    "        getattr(ax,f\"set_{c}label\")(f\"${c}$\",size=16)\n",
    "    flush_figures()"
   ]
  },
  {
   "cell_type": "markdown",
   "metadata": {},
   "source": [
    "See [this notebook](../extras/stadium-solution.ipynb) for solution with SymPy."
   ]
  },
  {
   "cell_type": "markdown",
   "metadata": {},
   "source": [
    "<div style=\"padding-bottom: 40%\"></div>"
   ]
  },
  {
   "cell_type": "markdown",
   "metadata": {
    "slideshow": {
     "slide_type": "subslide"
    }
   },
   "source": [
    "## Example\n",
    "\n",
    "The Earth has a mass of roughly $6\\times10^{24}$ kg. Assuming it's uniformly dense, what is the mass of the portion above the arctic circle ($66.5^\\circ$N)?"
   ]
  },
  {
   "cell_type": "code",
   "execution_count": 12,
   "metadata": {
    "hide_input": true,
    "jupyter": {
     "source_hidden": true
    },
    "tags": []
   },
   "outputs": [
    {
     "data": {
      "application/vnd.jupyter.widget-view+json": {
       "model_id": "1229eb98c2f540768bd0c6bb43808bd4",
       "version_major": 2,
       "version_minor": 0
      },
      "text/plain": [
       "interactive(children=(IntSlider(value=42, description='angle', max=90, step=6), Output()), _dom_classes=('widg…"
      ]
     },
     "metadata": {},
     "output_type": "display_data"
    }
   ],
   "source": [
    "@interact\n",
    "def _(angle=(0,90,6)):\n",
    "    tilt = 23.5*pi/180\n",
    "    fig = plt.figure(figsize=(10,10))\n",
    "    ax=fig.add_subplot(111,projection='3d')\n",
    "    ax.view_init(angle,30)\n",
    "    u = v = np.linspace(0,1,100)\n",
    "    u,v = np.meshgrid(u,v)\n",
    "\n",
    "    ax.plot_wireframe(sin(tilt*u)*cos(2*pi*v),sin(tilt*u)*sin(2*pi*v),cos(tilt*u),alpha=1,rcount=10,ccount = 5)\n",
    "    ax.plot_wireframe(sin((1-u)*tilt + pi*u)*cos(2*pi*v),sin((1-u)*tilt + pi*u)*sin(2*pi*v),cos((1-u)*tilt + pi*u),rcount=10,ccount = np.ceil(5*(pi-tilt)/tilt),alpha=.2)\n",
    "    ax.plot_surface(sin(tilt*u)*cos(2*pi*v),sin(tilt*u)*sin(2*pi*v),0*u + cos(tilt),alpha=.3,color='g')\n",
    "    ax.plot([-1,1],[0,0],[0,0],'k',lw=3)\n",
    "    ax.plot([0,0],[-1,1],[0,0],'k',lw=3)\n",
    "    ax.plot([0,0],[0,0],[-1,1],'k',lw=3)\n",
    "    for c in 'xyz':\n",
    "#         getattr(ax,f\"set_{c}lim\")([-1,1]);    \n",
    "        getattr(ax,f\"set_{c}label\")(f\"${c}$\",size=16)\n",
    "    flush_figures();"
   ]
  },
  {
   "cell_type": "markdown",
   "metadata": {},
   "source": [
    "Let $R$ be the radius of the Earth, and let $$\\alpha = 23.5^\\circ = 23.5\\frac{\\pi}{180}$$ be ite tilt. \n",
    "\n",
    "We compute the volume of this polar \"cap\":\n",
    "\n",
    "$$V = \\int_0^{2\\pi}\\int_0^\\alpha \\int_{\\frac{R\\cos\\alpha}{\\cos\\phi}}^R \\rho^2\\sin\\phi \\,d\\rho\\,d\\phi\\,d\\theta$$"
   ]
  },
  {
   "cell_type": "markdown",
   "metadata": {},
   "source": [
    "To better see where the $\\rho$ bounds came from, observe the following \"slice\" of the picture for a fixed $\\theta$. "
   ]
  },
  {
   "cell_type": "code",
   "execution_count": 13,
   "metadata": {
    "hide_input": true,
    "jupyter": {
     "source_hidden": true
    },
    "tags": []
   },
   "outputs": [
    {
     "data": {
      "application/vnd.jupyter.widget-view+json": {
       "model_id": "1131578d274b4ca68e6eacec40a4b267",
       "version_major": 2,
       "version_minor": 0
      },
      "text/plain": [
       "interactive(children=(FloatSlider(value=0.2, description='phi', max=0.41015237421866746, step=0.01), Output())…"
      ]
     },
     "metadata": {},
     "output_type": "display_data"
    }
   ],
   "source": [
    "alpha=(23.5*pi/180)\n",
    "@interact\n",
    "def _(phi=(0,alpha,.01)):\n",
    "    t = linspace(-alpha,alpha,60)\n",
    "    plt.figure(figsize = (6,6.6))\n",
    "    plt.fill(sin(t),cos(t),fc=(0,1,.4,.2),ec=(0,0,.5),lw=2)\n",
    "    plt.xlim(-.5,.5)\n",
    "    plt.ylim(0,1.1)\n",
    "    plt.plot([-sin(alpha),0,sin(alpha)],[cos(alpha),0,cos(alpha)],lw=1,color='k');\n",
    "    plt.plot([0,0],[0,1],lw=1,color='k');\n",
    "    t = linspace(-pi,pi)\n",
    "    plt.fill(sin(t),cos(t),fc=(.4,.4,1,.1),ec=(0,0,.5),lw=1)\n",
    "    plt.plot([0,sin(phi)],[0,cos(phi)])\n",
    "    plt.plot([tan(phi)*cos(alpha),sin(phi)],[cos(alpha),cos(phi)],lw=4,color='r')\n",
    "    t = linspace(0,phi)\n",
    "    plt.plot(.2*sin(t),.2*cos(t),'k',lw=1)\n",
    "    plt.text(.3*sin(phi/2),.3*cos(phi/2),\"$\\phi$\",fontsize=17,horizontalalignment='center')\n",
    "    flush_figures();\n"
   ]
  },
  {
   "cell_type": "markdown",
   "metadata": {},
   "source": [
    "As $\\phi$ varies from $0$ to $\\alpha$, the range of $\\rho$ is seen in the red line segment. The higher value is always $R$, but the smaller value comes from the horizontal line $z=R\\cos\\alpha = \\rho\\cos\\phi$. Solving for $\\rho$ gives us the lower bound."
   ]
  },
  {
   "cell_type": "markdown",
   "metadata": {},
   "source": [
    "$$V = \\int_0^{2\\pi}\\int_0^\\alpha \\int_{\\frac{R\\cos\\alpha}{\\cos\\phi}}^R \\rho^2\\sin\\phi \\,d\\rho\\,d\\phi\\,d\\theta$$\n",
    "\n",
    "$$ = \\frac{2\\pi R^3}{3}\\int_0^\\alpha (1-\\cos^3\\alpha \\sec^3\\phi)\\sin\\phi\\,d\\phi $$"
   ]
  },
  {
   "cell_type": "markdown",
   "metadata": {},
   "source": [
    "$$ = \\frac{2\\pi R^3}{3}\\left(1-\\cos\\alpha -\\cos^3\\alpha \\int_0^\\alpha \\sec^2\\phi \\tan\\phi\\,d\\phi \\right)$$\n",
    "\n",
    "$$ =  \\frac{2\\pi R^3}{3}\\left(1-\\cos\\alpha -\\cos^3\\alpha \\frac{\\tan^2\\alpha}{2}\\right) $$\n",
    "\n",
    "$$ =  \\frac{2\\pi R^3}{3}\\left(1-\\cos\\alpha(1 + \\frac12\\sin^2\\alpha)\\right) $$\n",
    "\n",
    "$$ =  \\frac{2\\pi R^3}{3}\\left(1-\\frac{3\\cos\\alpha}{2} + \\frac{\\cos^3\\alpha}{2}\\right) $$\n",
    "\n",
    "which is an interesting formula I did not know before now. It gives the volume of a ball swept out by an angle $\\alpha$ of 'latitude' down from the north pole."
   ]
  },
  {
   "cell_type": "code",
   "execution_count": 14,
   "metadata": {
    "hide_input": false,
    "jupyter": {
     "source_hidden": true
    }
   },
   "outputs": [
    {
     "data": {
      "image/png": "[encoded data removed]",
      "text/plain": [
       "<Figure size 628.319x400 with 1 Axes>"
      ]
     },
     "metadata": {},
     "output_type": "display_data"
    }
   ],
   "source": [
    "a = linspace(0,pi/2,77)\n",
    "plt.figure(figsize=(2*pi,4))\n",
    "plt.fill_between(a,1-3*cos(a)/2 + cos(a)**3/2,fc=(.3,.3,1,.3),ec='k');"
   ]
  },
  {
   "cell_type": "code",
   "execution_count": 15,
   "metadata": {
    "tags": []
   },
   "outputs": [],
   "source": [
    "alpha = 23.5*pi/180\n",
    "R = 6371\n",
    "M = 5.92e24"
   ]
  },
  {
   "cell_type": "code",
   "execution_count": 16,
   "metadata": {},
   "outputs": [
    {
     "data": {
      "text/plain": [
       "2.9698490214032138e+22"
      ]
     },
     "execution_count": 16,
     "metadata": {},
     "output_type": "execute_result"
    }
   ],
   "source": [
    "(1-3*cos(alpha)/2 + cos(alpha)**3/2)*M/2"
   ]
  },
  {
   "cell_type": "code",
   "execution_count": 17,
   "metadata": {},
   "outputs": [
    {
     "data": {
      "text/plain": [
       "2.969849021403217e+22"
      ]
     },
     "execution_count": 17,
     "metadata": {},
     "output_type": "execute_result"
    }
   ],
   "source": [
    "tplquad(lambda rho, ph, th: rho**2*sin(ph),0,2*pi,0,alpha,lambda th,ph: R*cos(alpha)/cos(ph),R)[0]/(pi*R**3*4/3) * M"
   ]
  },
  {
   "cell_type": "markdown",
   "metadata": {
    "slideshow": {
     "slide_type": "subslide"
    }
   },
   "source": [
    "## Exercise\n",
    "\n",
    "Set up a triple integral to find the volume of a torus with radii $a < b$."
   ]
  },
  {
   "cell_type": "code",
   "execution_count": 18,
   "metadata": {
    "hide_input": true,
    "jupyter": {
     "source_hidden": true
    },
    "tags": []
   },
   "outputs": [
    {
     "data": {
      "application/vnd.jupyter.widget-view+json": {
       "model_id": "a755760d212b431199d3f33a94903957",
       "version_major": 2,
       "version_minor": 0
      },
      "text/plain": [
       "interactive(children=(IntSlider(value=42, description='angle', max=90, step=6), Output()), _dom_classes=('widg…"
      ]
     },
     "metadata": {},
     "output_type": "display_data"
    }
   ],
   "source": [
    "@interact\n",
    "def _(angle=(0,90,6)):\n",
    "    tilt = 23.5*pi/180\n",
    "    fig = plt.figure(figsize=(10,10))\n",
    "    ax=fig.add_subplot(111,projection='3d')\n",
    "    ax.view_init(angle,30)\n",
    "    u = v = np.linspace(0,1,100)\n",
    "    u,v = np.meshgrid(u,v)\n",
    "\n",
    "    ax.plot_wireframe((1+1/2*sin(2*pi*u))*cos(2*pi*v),(1+1/2*sin(2*pi*u))*sin(2*pi*v),(1/2*cos(2*pi*u)),alpha=1,rcount=10,ccount = 10)\n",
    "    ax.plot_surface((1+1/2*sin(2*pi*u))*cos(2*pi*v),(1+1/2*sin(2*pi*u))*sin(2*pi*v),(1/2*cos(2*pi*u)),alpha=.3,color='g')\n",
    "    ax.plot([-1.5,1.5],[0,0],[0,0],'k',lw=3)\n",
    "    ax.plot([0,0],[-1.5,1.5],[0,0],'k',lw=3)\n",
    "    ax.plot([0,0],[0,0],[-1.5,1.5],'k',lw=3)\n",
    "    for c in 'xyz':\n",
    "#         getattr(ax,f\"set_{c}lim\")([-1,1]);    \n",
    "        getattr(ax,f\"set_{c}label\")(f\"${c}$\",size=16)\n",
    "    flush_figures()"
   ]
  },
  {
   "cell_type": "markdown",
   "metadata": {},
   "source": [
    "Do it in cylindrical coordinates.\n",
    "\n",
    "$$\\int_0^{2\\pi} \\int_{b-a}^{b+a} \n",
    "\\int_{-\\sqrt{a^2 - (r - b)^2}} ^{\\sqrt{a^2 - (r - b)^2}} r\\,dz\\,dr\\,d\\theta = 2\\pi^2 a^2 b$$"
   ]
  },
  {
   "cell_type": "markdown",
   "metadata": {},
   "source": [
    "## Exercise\n",
    "\n",
    "Sketch the region of integration and rewrite the following integral in $dy\\, dz\\, dx$ order.\n",
    "\n",
    "\n",
    "$$ \\int_0^1\\int_0^z\\int_z^1 f\\,dx\\,dy\\,dz $$"
   ]
  },
  {
   "cell_type": "code",
   "execution_count": 19,
   "metadata": {
    "hide_input": true,
    "jupyter": {
     "source_hidden": true
    },
    "slideshow": {
     "slide_type": "fragment"
    },
    "tags": []
   },
   "outputs": [
    {
     "data": {
      "application/vnd.jupyter.widget-view+json": {
       "model_id": "c175630218fb4ddb9fe23051064c2e77",
       "version_major": 2,
       "version_minor": 0
      },
      "text/plain": [
       "interactive(children=(IntSlider(value=0, description='angle', max=90, step=6), IntSlider(value=42, description…"
      ]
     },
     "metadata": {},
     "output_type": "display_data"
    }
   ],
   "source": [
    "@interact(angle=(-0,90,6),a=(0.,1.,.05))\n",
    "def _(angle=-24,vangle=(0,90,6),a=0):\n",
    "    fig = plt.figure(figsize=(10,10))\n",
    "    ax= fig.add_subplot(111,projection='3d')\n",
    "    u = np.linspace(0,1,80)\n",
    "    v = np.linspace(0,1,80)\n",
    "    U,V = np.meshgrid(u,v)\n",
    "    X = U\n",
    "    Y = V\n",
    "    Z = np.ones_like(U)\n",
    "#     ax.plot_wireframe(X,Y,Z,rcount=20,ccount=20)\n",
    "#     ax.plot_surface(X,Y,0*X,rcount=20,ccount=20,color='gray',alpha=.4)\n",
    "    ax.view_init(vangle,angle)\n",
    "    \n",
    "    ax.plot_wireframe(U,V*(U),U,rcount=20,ccount=20,alpha=a)\n",
    "    ax.plot_wireframe(U*0+1,V*(U),U,rcount=20,ccount=20,alpha=a)\n",
    "    ax.plot_wireframe(U+V*(1-U),U,U,rcount=20,ccount=20,alpha=a)\n",
    "    ax.plot_surface(U,0*X,V*(U),rcount=20,ccount=20,color='gray',alpha=.4)\n",
    "    ax.plot_surface(U*0,U,U+V*(1-U),rcount=20,ccount=20,color='gray',alpha=.4)\n",
    "\n",
    "    for c in 'xyz':\n",
    "#         getattr(ax,f\"set_{c}lim\")([-1,1]);    \n",
    "        getattr(ax,f\"set_{c}label\")(f\"${c}$\",size=16)\n",
    "    flush_figures()\n",
    "    "
   ]
  },
  {
   "cell_type": "markdown",
   "metadata": {},
   "source": [
    "$$\\int_0^1 \\int_{0}^x \\int_0^z f\\,dy\\,dz\\,dx $$"
   ]
  }
 ],
 "metadata": {
  "kernelspec": {
   "display_name": "Python 3 (ipykernel)",
   "language": "python",
   "name": "python3"
  },
  "language_info": {
   "codemirror_mode": {
    "name": "ipython",
    "version": 3
   },
   "file_extension": ".py",
   "mimetype": "text/x-python",
   "name": "python",
   "nbconvert_exporter": "python",
   "pygments_lexer": "ipython3",
   "version": "3.9.8"
  },
  "widgets": {
   "application/vnd.jupyter.widget-state+json": {
    "state": {},
    "version_major": 2,
    "version_minor": 0
   }
  }
 },
 "nbformat": 4,
 "nbformat_minor": 4
}
