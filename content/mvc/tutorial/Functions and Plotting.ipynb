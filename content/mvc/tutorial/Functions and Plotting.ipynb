{
 "cells": [
  {
   "cell_type": "code",
   "execution_count": null,
   "metadata": {},
   "outputs": [],
   "source": [
    "# These will be explained. For now, just run this at the beginning.\n",
    "%matplotlib inline\n",
    "import numpy as np\n",
    "import matplotlib.pyplot as plt\n",
    "\n",
    "from mpl_toolkits import mplot3d # Needed for 3D plots"
   ]
  },
  {
   "cell_type": "markdown",
   "metadata": {},
   "source": [
    "# Functions\n",
    "\n",
    "In this notebook we introduce the all-important notion of functions. This will include the typical mathematical definition of a mapping from scalars to scalars, but also for many other kinds of inputs and outputa. \n",
    "\n",
    "Unfortunately, defining functions is not as straight-forward as in pure math, but it is quickly taken to. We'll start simply. $$f(x) = x^2$$ "
   ]
  },
  {
   "cell_type": "code",
   "execution_count": null,
   "metadata": {},
   "outputs": [],
   "source": [
    "def f(x):\n",
    "    return x**2"
   ]
  },
  {
   "cell_type": "markdown",
   "metadata": {},
   "source": [
    "Function definitions start with the `def` keyword, then the function name and the arguments(s) in parentheses. Don't forget the subsequent colon `:`. Unfortunately (to some), Python is very sensitive to indentation. This forces more readable code but can lead to frustration at times. A function ends when it returns a value. "
   ]
  },
  {
   "cell_type": "code",
   "execution_count": null,
   "metadata": {},
   "outputs": [],
   "source": [
    "f(-9)"
   ]
  },
  {
   "cell_type": "code",
   "execution_count": null,
   "metadata": {},
   "outputs": [],
   "source": [
    "f(1/2)"
   ]
  },
  {
   "cell_type": "code",
   "execution_count": null,
   "metadata": {},
   "outputs": [],
   "source": [
    "# Here is the most labored definition of the identity function\n",
    "def there_is_no_need_for_one_letter_functions(or_variables_for_that_matter):\n",
    "    return or_variables_for_that_matter"
   ]
  },
  {
   "cell_type": "markdown",
   "metadata": {},
   "source": [
    "Python funcions work on lots of objects, sometimes in ways you might not have anticipated."
   ]
  },
  {
   "cell_type": "code",
   "execution_count": null,
   "metadata": {},
   "outputs": [],
   "source": [
    "v = np.array([1,2,3])\n",
    "there_is_no_need_for_one_letter_functions(v)"
   ]
  },
  {
   "cell_type": "code",
   "execution_count": null,
   "metadata": {},
   "outputs": [],
   "source": [
    "# less obvious, so be careful\n",
    "f(v)"
   ]
  },
  {
   "cell_type": "markdown",
   "metadata": {},
   "source": [
    "## Special functions\n",
    "\n",
    "Of course, we know far more functions than those that come from basic arithmetical operations, and many of these are already implemented in NumPy."
   ]
  },
  {
   "cell_type": "code",
   "execution_count": null,
   "metadata": {},
   "outputs": [],
   "source": [
    "np.cos(0)"
   ]
  },
  {
   "cell_type": "markdown",
   "metadata": {},
   "source": [
    "| mathematics | Python | desciption |\n",
    "|-------------|--------|------------|\n",
    "|$\\sqrt{x}$ | `np.sqrt(x)` | square root |\n",
    "|$\\sin(t)$ | `np.sin(t)` | sine |\n",
    "|$\\cos(t)$ | `np.cos(t)` | cosine |\n",
    "|$\\tan(t)$ | `np.tan(t)` | tangent |\n",
    "|$\\tan^{-1}(x)$ | `np.arctan(x)` | inverse tangent |\n",
    "|$e^x$ | `np.exp(x)` | exponential |\n",
    "|$\\ln x$ |`np.log(x)` | natural logarithm |\n",
    "|$\\log_2 x$ |`np.log2(x)` | CS |\n",
    "|$\\log_{10} x$ |`np.log10(x)` | physics |\n",
    "|$\\pi$ |`np.pi` | a famous constant |\n"
   ]
  },
  {
   "cell_type": "markdown",
   "metadata": {},
   "source": [
    "**Tip.** To avoid having to remember the `np.` all the time, we can explicitly import specific functions with the following."
   ]
  },
  {
   "cell_type": "code",
   "execution_count": null,
   "metadata": {},
   "outputs": [],
   "source": [
    "from numpy import sin,cos,sqrt,exp,log,pi,tan,arctan"
   ]
  },
  {
   "cell_type": "code",
   "execution_count": null,
   "metadata": {},
   "outputs": [],
   "source": [
    "sin(3*pi/2) "
   ]
  },
  {
   "cell_type": "markdown",
   "metadata": {},
   "source": [
    "## Vector-valued functions\n",
    "\n",
    "Of course functions need not only return a scalar. Recall the spiral curve $$\\vec r = \\langle t\\cos(t), t\\sin(t) \\rangle$$"
   ]
  },
  {
   "cell_type": "code",
   "execution_count": null,
   "metadata": {},
   "outputs": [],
   "source": [
    "def r(t):\n",
    "    return t * np.array([cos(t),sin(t)]) "
   ]
  },
  {
   "cell_type": "code",
   "execution_count": null,
   "metadata": {},
   "outputs": [],
   "source": [
    "r(2*pi)"
   ]
  },
  {
   "cell_type": "markdown",
   "metadata": {},
   "source": [
    "#### Exercise\n",
    "\n",
    "What is the exact value of $\\vec r(2\\pi)$? Why was the above printed out?"
   ]
  },
  {
   "cell_type": "markdown",
   "metadata": {},
   "source": [
    "## Functions of several variables\n",
    "\n",
    "Functions can be defined with any number of inputs in a straightforward way. Suppose $$f(x,y) = x^2 - x +2y^2$$"
   ]
  },
  {
   "cell_type": "code",
   "execution_count": null,
   "metadata": {},
   "outputs": [],
   "source": [
    "def f(x,y):\n",
    "    return x**2 - x + 2 * y**2"
   ]
  },
  {
   "cell_type": "code",
   "execution_count": null,
   "metadata": {},
   "outputs": [],
   "source": [
    "f(-12,4)"
   ]
  },
  {
   "cell_type": "markdown",
   "metadata": {},
   "source": [
    "**Warning.** Note that the code above redefined the variable `f` to this new function. Prior cells referencing it may exhibi incorrect behavior. Though we recycle variables constantly when doing mathematics, it is better to use unique names in a computational setting. Feel free to expand beyond $f$ and $g$ for function names. "
   ]
  },
  {
   "cell_type": "markdown",
   "metadata": {},
   "source": [
    "## Plotting\n",
    "\n",
    "Visualizaion is often key to understanding mathematical objects. We'll use the library [Matplotlib](https://matplotlib.org/), which you can see imported above.\n",
    "\n",
    "> **Some editorializing.** Matplotlib is powerful and can in fact be used for publication-quality images, but it has many quirks and can be at times difficult to work with. If your main goal is graphing and you are new to this environment, I highly recommend using other, more intuitive options like CalcPlot3D, Geogebra, or many others. \n",
    "\n",
    "> In this class, we are using the Python environment so that we can (eventually) do some fairly intricate computations that would be difficult otherwise. This plotting section is presented so one can quickly get a picture when mecessary. It is not the main point of this unit. **End of editorializing.**"
   ]
  },
  {
   "cell_type": "markdown",
   "metadata": {},
   "source": [
    "### A simple 1-D function\n",
    "\n",
    "Matplotlib is finnicky and somewhat counter-intuitive, especially if you are used to a CAS like _Mathematica_, MATLAB, etc. A plot has a lot of components but at the core are two arrays, of $x$- and $y$-values respectively, which are joined pairwise and in order by sraight line segments. \n",
    "\n",
    "Thus to graph a simple sine wave, we first construct a vector of $x$-values using NumPy's `linspace` function. "
   ]
  },
  {
   "cell_type": "code",
   "execution_count": null,
   "metadata": {},
   "outputs": [],
   "source": [
    "x = np.linspace(0,2*pi,100)"
   ]
  },
  {
   "cell_type": "markdown",
   "metadata": {},
   "source": [
    "`x` is now a vector of 100 $x$-values, starting at $1$ and ending at $2\\pi$.\n",
    "\n",
    "Next we just need a corresponding sequence of $y$-values. "
   ]
  },
  {
   "cell_type": "code",
   "execution_count": null,
   "metadata": {},
   "outputs": [],
   "source": [
    "y = np.sin(x)"
   ]
  },
  {
   "cell_type": "markdown",
   "metadata": {},
   "source": [
    "**Bad news:** $\\sin(x)$ just took a vector as its input. It's not supposed to do that.\n",
    "\n",
    "**Good news:** NumPy function are _vectorized_; that means when they expecting  a scalar and get a vector, they just act on each component of the vector in turn. This makes for less code, but more for the coder to think about. \n",
    "\n",
    "Anyway, now we're ready to actually make the graph. "
   ]
  },
  {
   "cell_type": "code",
   "execution_count": null,
   "metadata": {},
   "outputs": [],
   "source": [
    "plt.plot(x,y);"
   ]
  },
  {
   "cell_type": "markdown",
   "metadata": {},
   "source": [
    "And generally we won't need anything fancier than that. here is a lot happening behind the scenes, but two lines, changing formulas as necessary, will suffice for about anuything in this course."
   ]
  },
  {
   "cell_type": "markdown",
   "metadata": {},
   "source": [
    "#### EXAMPLE\n",
    "\n",
    "Sketch the graph $y=e^{-x^2}$ for $x \\in [-3,3]$."
   ]
  },
  {
   "cell_type": "code",
   "execution_count": null,
   "metadata": {},
   "outputs": [],
   "source": [
    "# Solution\n",
    "x = np.linspace(-3,3,100)\n",
    "plt.plot(x,exp(-x**2));"
   ]
  },
  {
   "cell_type": "markdown",
   "metadata": {},
   "source": [
    "### Getting fancy (optional)\n",
    "\n",
    "Now if such a bare graphic offends your aesthetic sensibilities, you are welcome to explore the rabbithole of the [docs and examples](https://matplotlib.org/3.1.0/api/_as_gen/matplotlib.pyplot.plot.html), but you migh consider more pressing obligations."
   ]
  },
  {
   "cell_type": "code",
   "execution_count": null,
   "metadata": {},
   "outputs": [],
   "source": [
    "x = np.linspace(0,2*pi,100)\n",
    "plt.plot(x,sin(x),'b-',x,cos(3*x)/2,\"r--\")\n",
    "plt.title(\"Two Waves\")\n",
    "plt.xticks(np.linspace(0,2*pi,9),['$0$', '','','', '$\\pi$','','','','$2\\pi$'])\n",
    "plt.xlabel('the angle $\\\\theta$')\n",
    "plt.ylabel('the upside-down',rotation=270,va='top')\n",
    "plt.legend([\"slow\",\"faster\"],shadow=True);"
   ]
  },
  {
   "cell_type": "markdown",
   "metadata": {},
   "source": [
    "### A curve\n",
    "\n",
    "Plotting $\\vec r(t)$ is similar; we just need to coax the vectors into the right forma for $plot$."
   ]
  },
  {
   "cell_type": "code",
   "execution_count": null,
   "metadata": {},
   "outputs": [],
   "source": [
    "X,Y = np.column_stack([r(t) for t in np.linspace(0,8*pi,400)])"
   ]
  },
  {
   "cell_type": "code",
   "execution_count": null,
   "metadata": {},
   "outputs": [],
   "source": [
    "plt.figure(figsize=(7,7))\n",
    "plt.plot(X,Y);"
   ]
  },
  {
   "cell_type": "markdown",
   "metadata": {},
   "source": [
    "## 3D\n",
    "\n",
    "Matplotlib can plot in 3 dimension albeit crudely. The key is that one must set up the axes properly, but then plotting curves is fairly intuitive."
   ]
  },
  {
   "cell_type": "code",
   "execution_count": null,
   "metadata": {},
   "outputs": [],
   "source": [
    "plt.gca(projection='3d'); # 'gca' stands for 'get current axes'."
   ]
  },
  {
   "cell_type": "markdown",
   "metadata": {},
   "source": [
    "### Curves\n",
    "\n",
    "Plotting curves is fairly trivial. Once the axes are set up, `plt.plot` takes 3 arguments, the $x$-, $y$-, and $z$-coordinates of the curve."
   ]
  },
  {
   "cell_type": "code",
   "execution_count": null,
   "metadata": {},
   "outputs": [],
   "source": [
    "# Plot a helix\n",
    "plt.gca(projection='3d'); # 'gca' stands for 'get current axes'.\n",
    "\n",
    "t = np.linspace(0,4*np.pi,200)\n",
    "plt.plot(cos(t),sin(t),t);"
   ]
  },
  {
   "cell_type": "markdown",
   "metadata": {},
   "source": [
    "We can add some bells and whistles."
   ]
  },
  {
   "cell_type": "code",
   "execution_count": null,
   "metadata": {},
   "outputs": [],
   "source": [
    "# Plot a helix\n",
    "fig = plt.figure(figsize=(7,7),dpi=100) # dimensions are in \"inches\" but you can set dots per inch\n",
    "ax = plt.gca(projection='3d') # 'gca' stands for 'get current axes'.\n",
    "\n",
    "fig.suptitle(\"A helix\",fontsize = 14)\n",
    "\n",
    "t = np.linspace(0,4*np.pi,200)\n",
    "ax.plot(cos(t),sin(t),t,color='red',lw=3); # 'lw' is line width\n",
    "\n",
    "# Label the axes\n",
    "for c in \"xyz\":\n",
    "    getattr(ax,f\"set_{c}label\")(f\"${c}$\")\n",
    "    \n",
    "# Change the view\n",
    "ax.view_init(30,-55)"
   ]
  },
  {
   "cell_type": "markdown",
   "metadata": {},
   "source": [
    "### Surfaces\n",
    "\n",
    "Surfaces are a little more complicated. For a curve, matplotlib just connects consecutive points. For a surface, it needs to know how to connect multiple points into polygons. luckily the numpy function `meshgrid` sets things up just right."
   ]
  },
  {
   "cell_type": "markdown",
   "metadata": {},
   "source": [
    "#### Example\n",
    "\n",
    "We plot the function $$g(x,y) = x^2 - y^2$$ on the domain $[-1,1]\\times[-1,1]$."
   ]
  },
  {
   "cell_type": "code",
   "execution_count": null,
   "metadata": {
    "scrolled": false
   },
   "outputs": [],
   "source": [
    "def g(x,y):\n",
    "    return x**2 - y**2\n",
    "\n",
    "\n",
    "x = y = np.linspace(-1,1,50)\n",
    "X,Y = np.meshgrid(x,y) # this basically makes all the pairs on coordinates\n",
    "\n",
    "# Set up axes. There are so many ways to do this.\n",
    "fig = plt.figure(figsize=(8,8))\n",
    "ax = plt.subplot(projection='3d')\n",
    "\n",
    "#do the plotting\n",
    "ax.plot_surface(X,Y,g(X,Y));"
   ]
  },
  {
   "cell_type": "markdown",
   "metadata": {},
   "source": [
    "There are any number of optional features we can add. Color alone is a slippery slope. This [colormap reference](https://matplotlib.org/3.1.1/gallery/color/colormap_reference.html) can give you some options though."
   ]
  },
  {
   "cell_type": "code",
   "execution_count": null,
   "metadata": {
    "scrolled": false
   },
   "outputs": [],
   "source": [
    "def g(x,y):\n",
    "    return x**2 - y**2\n",
    "\n",
    "\n",
    "x = y = np.linspace(-1,1,50)\n",
    "X,Y = np.meshgrid(x,y) # this basically makes all the pairs on coordinates\n",
    "\n",
    "# Set up axes. There are so many ways to do this.\n",
    "fig = plt.figure(figsize=(8,8))\n",
    "ax = plt.subplot(projection='3d')\n",
    "\n",
    "#do the plotting\n",
    "ax.plot_surface(X,Y,g(X,Y),cmap = 'gist_earth',alpha=.8);\n",
    "\n",
    "for c in \"xyz\":\n",
    "    getattr(ax,f\"set_{c}label\")(f\"{c}\",fontsize=18)\n",
    "    \n",
    "# Add a curve on the surface\n",
    "t = np.linspace(-1,1,100)\n",
    "X = t \n",
    "Y = sqrt(1-t**2)*np.sin(15*t)\n",
    "Z = g(X,Y) \n",
    "ax.plot(X,Y,Z,color='k',lw=3)\n",
    "ax.view_init(45,-110)"
   ]
  },
  {
   "cell_type": "code",
   "execution_count": null,
   "metadata": {},
   "outputs": [],
   "source": []
  }
 ],
 "metadata": {
  "kernel_info": {
   "name": "python3"
  },
  "kernelspec": {
   "display_name": "Python 3",
   "language": "python",
   "name": "python3"
  },
  "language_info": {
   "codemirror_mode": {
    "name": "ipython",
    "version": 3
   },
   "file_extension": ".py",
   "mimetype": "text/x-python",
   "name": "python",
   "nbconvert_exporter": "python",
   "pygments_lexer": "ipython3",
   "version": "3.9.1"
  },
  "nteract": {
   "version": "0.14.3"
  }
 },
 "nbformat": 4,
 "nbformat_minor": 2
}
