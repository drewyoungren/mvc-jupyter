{
 "cells": [
  {
   "cell_type": "markdown",
   "metadata": {},
   "source": [
    "# Multivariable Calculus in Jupyter\n",
    "\n",
    "This is meant as a quick-and-dirty introduction to computation tools for multivariable calculus in Python/Jupyter.\n",
    "Python is the **language** we'll be writing our code in and Jupyter is the **environment** that executes the commands and stores the results. We'll also see a number of **libraries** (e.g., NumPy, SciPy, Pandas) that will help with various structures. \n",
    "\n",
    "This tools are extremely powerful and their use can get rather complex, but we will limit ourselves to the basic structures of the course. Computers generally don't read our system of mathematical symbols (originating in the 17th century and earlier) so part of the challenge is translating expressions we know into executable code. \n",
    "\n",
    "|mathematics     | Python  | decripion     |\n",
    "|----------------|----------------|----------------|\n",
    "| $\\displaystyle \\sum_{i=1}^6 i^2$ | `sum([i**2 for i in range(1,7)])`| add the first 6 squares |\n",
    "\n",
    "\n",
    "We'll cover the details in time. Let's start small. If you would like a bit more of the nitty-gritty, you can dive into  [SciPy Lectures](https://scipy-lectures.org)."
   ]
  },
  {
   "cell_type": "markdown",
   "metadata": {
    "slideshow": {
     "slide_type": "slide"
    }
   },
   "source": [
    "## Cells and Modes\n",
    "\n",
    "First we need to know the structure of a Jupyter notebook (this document). Everything you see below the menu above is in a **cell**.  Click to the left of this text and you should see this section highlighted (likely in blue). The notebook is in **Command Mode**. This is used to open new cells, delete old ones, move them around, etc. \n",
    "\n",
    "Now double-click on this text itself. The appearance should have changed, and you can now edit the text, hence **Edit Mode**. Click in the margin to get back out to command mode, where you generally want to be when not actively editing a cell. \n",
    "\n",
    "\n",
    "There are essentially two types of cells: \n",
    "  - **Markdown** cells containing formatted text (and mathematical $s_ym\\beta \\otimes l^s$) simply to be read (this is one of them)\n",
    "  - **Code** cells containing, well, code, i.e., instructions to be executed. \n",
    "\n",
    "You can change the cell type by selecting it and using the **Cell $\\rightarrow$ Cell Type** menu above or (in command mode only) typing `m` for markdown or `y` for code. "
   ]
  },
  {
   "cell_type": "markdown",
   "metadata": {},
   "source": [
    "## Arithmetic\n",
    "\n",
    "Let's do some math. Below is a code cell. Select it and press `Shift+Enter` to execute it. This is how all code cells are executed, even in edit mode."
   ]
  },
  {
   "cell_type": "code",
   "execution_count": null,
   "metadata": {},
   "outputs": [],
   "source": [
    "6 + 2"
   ]
  },
  {
   "cell_type": "markdown",
   "metadata": {},
   "source": [
    "Arithmetic works the expected way where  $a+b$, $a-b$, $a\\times b$, and $a \\div b$ are coded as `a + b`, `a - b`, `a * b`, and `a / b`, respectively. \n",
    "\n",
    "All delimiting should be done with parentheses `(` `)`. Brackets `[` `]` and braces `{` `}` have other special meanings. \n",
    "\n",
    "Now make a new code cell immediately below this one (Use the $\\mathbf{+}$ menu button above or in command mode, press `b`) and see how Python deal with the Internet’s \"problem\" $6 \\div 2 \\times 3$."
   ]
  },
  {
   "cell_type": "markdown",
   "metadata": {},
   "source": [
    "Python does obey some conventions when it comes to order of operations, but whenever in doubt, it's better to have too many parentheses than too few. "
   ]
  },
  {
   "cell_type": "markdown",
   "metadata": {},
   "source": [
    "### Warning: Exponents\n",
    "\n",
    "One can of course take powers in Python but, unlike many computing environments, it uses a double-asterisk `**` for this. The commonly used carat `^` does something else (bitwise XOR) entirely."
   ]
  },
  {
   "cell_type": "code",
   "execution_count": null,
   "metadata": {},
   "outputs": [],
   "source": [
    "# This doesn't square. \n",
    "3^2"
   ]
  },
  {
   "cell_type": "code",
   "execution_count": null,
   "metadata": {},
   "outputs": [],
   "source": [
    "# This does. \n",
    "3**2"
   ]
  },
  {
   "cell_type": "code",
   "execution_count": null,
   "metadata": {},
   "outputs": [],
   "source": [
    "# one can take roots this way, but note the parentheses.\n",
    "2**(1/2)"
   ]
  },
  {
   "cell_type": "markdown",
   "metadata": {},
   "source": [
    "### Comments\n",
    "\n",
    "That reminds me, in code cells, anything following a `#` symbol on a line is considered a commend and ignored by the interpreter. This is very important for explaining to (human) readers what your code is meant to do."
   ]
  },
  {
   "cell_type": "code",
   "execution_count": null,
   "metadata": {},
   "outputs": [],
   "source": [
    "# This cell won't produce any thing at all.\n",
    "# You can write insults about the kernel's mother, and it won't even react."
   ]
  },
  {
   "cell_type": "markdown",
   "metadata": {},
   "source": [
    "## Variables \n",
    "\n",
    "Values of course can be stored in variables as in mathematics. Values are assigned using the `=` operator with the variable name coming on the left."
   ]
  },
  {
   "cell_type": "code",
   "execution_count": null,
   "metadata": {},
   "outputs": [],
   "source": [
    "x = 6 / 2 + 1.5**6\n",
    "x"
   ]
  },
  {
   "cell_type": "markdown",
   "metadata": {},
   "source": [
    "They can then be references in other expressions by name."
   ]
  },
  {
   "cell_type": "code",
   "execution_count": null,
   "metadata": {},
   "outputs": [],
   "source": [
    "x + 4"
   ]
  },
  {
   "cell_type": "markdown",
   "metadata": {},
   "source": [
    "### `print()`\n",
    "\n",
    "Jupyter will display an expressions value if it is the last line of a code cell, but you can see a value at any point by explicitly calling the `print()` function."
   ]
  },
  {
   "cell_type": "code",
   "execution_count": null,
   "metadata": {},
   "outputs": [],
   "source": [
    "print(x)\n",
    "print(x + 7)\n",
    "x+8\n",
    "x"
   ]
  },
  {
   "cell_type": "markdown",
   "metadata": {},
   "source": [
    "### Changing a value\n",
    "\n",
    "Note that just writing an expression with a variable as above does not change its value. To do so another assignment must be called. "
   ]
  },
  {
   "cell_type": "code",
   "execution_count": null,
   "metadata": {},
   "outputs": [],
   "source": [
    "print(x)\n",
    "x = 14\n",
    "x"
   ]
  },
  {
   "cell_type": "code",
   "execution_count": null,
   "metadata": {},
   "outputs": [],
   "source": [
    "x = x + 1\n",
    "x"
   ]
  },
  {
   "cell_type": "markdown",
   "metadata": {},
   "source": [
    "**Important.** Note that last cell started with `x = x + 1`. Those used to computing will not bat an eyelash at this, but a pure mathematician might keel over as the equation $x=x+1$ has no solution.  \n",
    "\n",
    "The interpreter evaluates the expression on the right first, gets 15, and then assigns it to `x`. This is so common, you can do the same kind of incrementation like this:"
   ]
  },
  {
   "cell_type": "code",
   "execution_count": null,
   "metadata": {},
   "outputs": [],
   "source": [
    "x += 1\n",
    "x"
   ]
  },
  {
   "cell_type": "markdown",
   "metadata": {},
   "source": [
    "Be careful here though. Run that cell repeatedly to see the value go up and up."
   ]
  },
  {
   "cell_type": "markdown",
   "metadata": {},
   "source": [
    "## Lists and Tuples\n",
    "\n",
    "As you can imagine in **multi**variable calculus, we often deal with several values simultaineously. Two ways of storing an ordered collection of objects are with `lists` and `tuples`. \n",
    "\n",
    "Both are written with commas separating the items, but \n",
    "  - lists use square brackets `[]` and\n",
    "  - tuples use parentheses `()`"
   ]
  },
  {
   "cell_type": "code",
   "execution_count": 45,
   "metadata": {},
   "outputs": [],
   "source": [
    "i_am_a_list = [12, 34, 56]\n",
    "i_am_a_tuple = (1, 2, 4, 8)"
   ]
  },
  {
   "cell_type": "markdown",
   "metadata": {},
   "source": [
    "The difference is a technical one. `list`s can change their contents after being declared (they're *mutable*). `tuples` cannot"
   ]
  },
  {
   "cell_type": "code",
   "execution_count": 46,
   "metadata": {},
   "outputs": [
    {
     "data": {
      "text/plain": [
       "[12, 34, 78]"
      ]
     },
     "execution_count": 46,
     "metadata": {},
     "output_type": "execute_result"
    }
   ],
   "source": [
    "i_am_a_list[2] = 78\n",
    "i_am_a_list"
   ]
  },
  {
   "cell_type": "code",
   "execution_count": 47,
   "metadata": {},
   "outputs": [
    {
     "ename": "TypeError",
     "evalue": "'tuple' object does not support item assignment",
     "output_type": "error",
     "traceback": [
      "\u001b[0;31m---------------------------------------------------------------------------\u001b[0m",
      "\u001b[0;31mTypeError\u001b[0m                                 Traceback (most recent call last)",
      "\u001b[0;32m/var/folders/qj/d_k0dp_j719dlnhf04q0zngw0000gn/T/ipykernel_30838/660310212.py\u001b[0m in \u001b[0;36m<module>\u001b[0;34m\u001b[0m\n\u001b[0;32m----> 1\u001b[0;31m \u001b[0mi_am_a_tuple\u001b[0m\u001b[0;34m[\u001b[0m\u001b[0;36m2\u001b[0m\u001b[0;34m]\u001b[0m \u001b[0;34m=\u001b[0m \u001b[0;36m9\u001b[0m\u001b[0;34m\u001b[0m\u001b[0;34m\u001b[0m\u001b[0m\n\u001b[0m",
      "\u001b[0;31mTypeError\u001b[0m: 'tuple' object does not support item assignment"
     ]
    }
   ],
   "source": [
    "i_am_a_tuple[2] = 9"
   ]
  },
  {
   "cell_type": "markdown",
   "metadata": {},
   "source": [
    "### Indexing\n",
    "\n",
    "These technicalities are not ones we need to worry about at the moment. What we do need to worry about is what happened above with that `[2]` up above. That is called **indexing** and it is how we access the elements of a list (or tuple)."
   ]
  },
  {
   "cell_type": "code",
   "execution_count": 48,
   "metadata": {},
   "outputs": [
    {
     "data": {
      "text/plain": [
       "34"
      ]
     },
     "execution_count": 48,
     "metadata": {},
     "output_type": "execute_result"
    }
   ],
   "source": [
    "i_am_a_list[1]"
   ]
  },
  {
   "cell_type": "markdown",
   "metadata": {},
   "source": [
    "<span style=\"background: red; color: white; padding: 2px\">IMPORTANT</span> Python indexes from `0` so the first element is given by"
   ]
  },
  {
   "cell_type": "code",
   "execution_count": 50,
   "metadata": {},
   "outputs": [
    {
     "data": {
      "text/plain": [
       "1"
      ]
     },
     "execution_count": 50,
     "metadata": {},
     "output_type": "execute_result"
    }
   ],
   "source": [
    "i_am_a_tuple[0]"
   ]
  },
  {
   "cell_type": "markdown",
   "metadata": {},
   "source": [
    "and going past the end produces an error"
   ]
  },
  {
   "cell_type": "code",
   "execution_count": 51,
   "metadata": {},
   "outputs": [
    {
     "ename": "IndexError",
     "evalue": "tuple index out of range",
     "output_type": "error",
     "traceback": [
      "\u001b[0;31m---------------------------------------------------------------------------\u001b[0m",
      "\u001b[0;31mIndexError\u001b[0m                                Traceback (most recent call last)",
      "\u001b[0;32m/var/folders/qj/d_k0dp_j719dlnhf04q0zngw0000gn/T/ipykernel_30838/3978758342.py\u001b[0m in \u001b[0;36m<module>\u001b[0;34m\u001b[0m\n\u001b[0;32m----> 1\u001b[0;31m \u001b[0mi_am_a_tuple\u001b[0m\u001b[0;34m[\u001b[0m\u001b[0;36m4\u001b[0m\u001b[0;34m]\u001b[0m\u001b[0;34m\u001b[0m\u001b[0;34m\u001b[0m\u001b[0m\n\u001b[0m",
      "\u001b[0;31mIndexError\u001b[0m: tuple index out of range"
     ]
    }
   ],
   "source": [
    "i_am_a_tuple[4]"
   ]
  },
  {
   "cell_type": "markdown",
   "metadata": {},
   "source": [
    "#### Negative indices"
   ]
  },
  {
   "cell_type": "markdown",
   "metadata": {},
   "source": [
    "A negative index counts backward from the end of a list"
   ]
  },
  {
   "cell_type": "code",
   "execution_count": 52,
   "metadata": {},
   "outputs": [
    {
     "data": {
      "text/plain": [
       "8"
      ]
     },
     "execution_count": 52,
     "metadata": {},
     "output_type": "execute_result"
    }
   ],
   "source": [
    "i_am_a_tuple[-1]"
   ]
  },
  {
   "cell_type": "code",
   "execution_count": 55,
   "metadata": {},
   "outputs": [
    {
     "data": {
      "text/plain": [
       "12"
      ]
     },
     "execution_count": 55,
     "metadata": {},
     "output_type": "execute_result"
    }
   ],
   "source": [
    "i_am_a_list[-3] # back at the start"
   ]
  },
  {
   "cell_type": "markdown",
   "metadata": {},
   "source": [
    "### `range`\n",
    "\n",
    "Of course, we do not always want to write out all the elements in our lists. The `range` can generate a list of consecutive integers and is the building block for many mathematical structures."
   ]
  },
  {
   "cell_type": "code",
   "execution_count": 56,
   "metadata": {},
   "outputs": [
    {
     "data": {
      "text/plain": [
       "range(0, 4)"
      ]
     },
     "execution_count": 56,
     "metadata": {},
     "output_type": "execute_result"
    }
   ],
   "source": [
    "range(4)"
   ]
  },
  {
   "cell_type": "markdown",
   "metadata": {},
   "source": [
    "OK, I lied. It doesn't actually generate a list. It return a \"generator\" that can make all the elements of a list. We can get the actual list object with the function `list`. "
   ]
  },
  {
   "cell_type": "code",
   "execution_count": 58,
   "metadata": {},
   "outputs": [
    {
     "data": {
      "text/plain": [
       "[0, 1, 2, 3, 4, 5, 6, 7, 8, 9, 10, 11, 12, 13, 14]"
      ]
     },
     "execution_count": 58,
     "metadata": {},
     "output_type": "execute_result"
    }
   ],
   "source": [
    "list(range(15))"
   ]
  },
  {
   "cell_type": "markdown",
   "metadata": {},
   "source": [
    "Note the list stops at 14, so a single argument gives a list of that length. If you want a diffent sequence of integers, you can specify a different starting value. "
   ]
  },
  {
   "cell_type": "code",
   "execution_count": 61,
   "metadata": {},
   "outputs": [
    {
     "data": {
      "text/plain": [
       "[-7, -6, -5, -4, -3, -2, -1, 0, 1, 2, 3, 4]"
      ]
     },
     "execution_count": 61,
     "metadata": {},
     "output_type": "execute_result"
    }
   ],
   "source": [
    "list(range(-7, 5))"
   ]
  },
  {
   "cell_type": "markdown",
   "metadata": {},
   "source": [
    "### Comprehensions"
   ]
  },
  {
   "cell_type": "markdown",
   "metadata": {},
   "source": [
    "This might be a little advanced for starting out (and can be skipped for now), but it is an awfully important structure for doing mathematics. \n",
    "\n",
    "A **list comprehension** is an expression that generates elements from those of another list (or iterable). Its structure is\n",
    "\n",
    "```[ function(index) for index in iterable ]```"
   ]
  },
  {
   "cell_type": "markdown",
   "metadata": {},
   "source": [
    "where `index` is a dummy variable that takes the value of each element of `iterable` in order. \n",
    "\n",
    "#### Examples\n",
    "\n",
    "  - The first 20 squares"
   ]
  },
  {
   "cell_type": "code",
   "execution_count": 64,
   "metadata": {},
   "outputs": [
    {
     "data": {
      "text/plain": [
       "[1,\n",
       " 4,\n",
       " 9,\n",
       " 16,\n",
       " 25,\n",
       " 36,\n",
       " 49,\n",
       " 64,\n",
       " 81,\n",
       " 100,\n",
       " 121,\n",
       " 144,\n",
       " 169,\n",
       " 196,\n",
       " 225,\n",
       " 256,\n",
       " 289,\n",
       " 324,\n",
       " 361,\n",
       " 400]"
      ]
     },
     "execution_count": 64,
     "metadata": {},
     "output_type": "execute_result"
    }
   ],
   "source": [
    "[ i**2 for i in range(1, 21) ]"
   ]
  },
  {
   "cell_type": "markdown",
   "metadata": {},
   "source": [
    "  - Alternating signs"
   ]
  },
  {
   "cell_type": "code",
   "execution_count": 65,
   "metadata": {},
   "outputs": [
    {
     "data": {
      "text/plain": [
       "[1, -1, 1, -1, 1, -1, 1, -1, 1, -1, 1, -1, 1, -1, 1]"
      ]
     },
     "execution_count": 65,
     "metadata": {},
     "output_type": "execute_result"
    }
   ],
   "source": [
    "[ (-1)**i for i in range(15) ]"
   ]
  },
  {
   "cell_type": "markdown",
   "metadata": {},
   "source": [
    "  - reciprocal evens"
   ]
  },
  {
   "cell_type": "code",
   "execution_count": 66,
   "metadata": {},
   "outputs": [
    {
     "data": {
      "text/plain": [
       "[0.5,\n",
       " 0.25,\n",
       " 0.16666666666666666,\n",
       " 0.125,\n",
       " 0.1,\n",
       " 0.08333333333333333,\n",
       " 0.07142857142857142,\n",
       " 0.0625,\n",
       " 0.05555555555555555,\n",
       " 0.05]"
      ]
     },
     "execution_count": 66,
     "metadata": {},
     "output_type": "execute_result"
    }
   ],
   "source": [
    "[ 1 / (2*n) for n in range(1, 11) ]"
   ]
  },
  {
   "cell_type": "markdown",
   "metadata": {},
   "source": [
    "## Plotting"
   ]
  },
  {
   "cell_type": "markdown",
   "metadata": {},
   "source": [
    "Two libraries we will use a lot and are ubiquitous in the scientific computing community are [NumPy](https://numpy.org/) and [matplotlib](https://matplotlib.org/). The gory details will come in time, but let's dive in and plot some simple functions.\n",
    "\n",
    "First, we need to import these libraries (\"modules\" in Pythonese)."
   ]
  },
  {
   "cell_type": "code",
   "execution_count": null,
   "metadata": {},
   "outputs": [],
   "source": [
    "import numpy as np\n",
    "import matplotlib.pyplot as plt"
   ]
  },
  {
   "cell_type": "markdown",
   "metadata": {},
   "source": [
    "We can now invoke their contents by using the `np.` and `plt.` prefixes. Let's plot a sine wave."
   ]
  },
  {
   "cell_type": "code",
   "execution_count": 75,
   "metadata": {},
   "outputs": [
    {
     "data": {
      "image/png": "[encoded data removed]",
      "text/plain": [
       "<Figure size 432x288 with 1 Axes>"
      ]
     },
     "metadata": {
      "needs_background": "light"
     },
     "output_type": "display_data"
    }
   ],
   "source": [
    "x = np.linspace(0, 2*np.pi, 200)\n",
    "plt.plot(x, np.sin(x));"
   ]
  },
  {
   "cell_type": "markdown",
   "metadata": {},
   "source": [
    "The first line establishes `x`, the input variable, not as variable but an array of input values. 200 of them, specifically, along the `lin`ear `space` from $0$ to $2\\pi$, inclusive. NumPy contains thousands of mathematical functions and concepts, including our trig friends here. Matplotlib then takes these values and draws them. "
   ]
  },
  {
   "cell_type": "markdown",
   "metadata": {},
   "source": [
    "We can import oft-used functions so as not to have to type the prefix all the time as follows. \n",
    "**Be careful** doing this as you can overwrite functions already loaded. Some practitioners avoid this altogether."
   ]
  },
  {
   "cell_type": "code",
   "execution_count": 84,
   "metadata": {},
   "outputs": [],
   "source": [
    "from numpy import pi, sin, cos, sqrt, log, exp, array, linspace, arange\n",
    "\n",
    "x = linspace (-3, 3, 300)"
   ]
  },
  {
   "cell_type": "markdown",
   "metadata": {},
   "source": [
    "Combine plots by making several calls to `plt.plot` in the same cell. "
   ]
  },
  {
   "cell_type": "code",
   "execution_count": 84,
   "metadata": {},
   "outputs": [
    {
     "data": {
      "image/png": "[encoded data removed]",
      "text/plain": [
       "<Figure size 432x288 with 1 Axes>"
      ]
     },
     "metadata": {
      "needs_background": "light"
     },
     "output_type": "display_data"
    }
   ],
   "source": [
    "plt.plot(x, exp(-x**2))\n",
    "plt.plot(x, x * exp(-x**2))\n",
    "plt.plot(x, x**2 * exp(-x**2));"
   ]
  },
  {
   "cell_type": "markdown",
   "metadata": {},
   "source": [
    "You can find a ton of examples in the [gallery](https://matplotlib.org/stable/gallery/index.html) should you want to explore further."
   ]
  }
 ],
 "metadata": {
  "kernelspec": {
   "display_name": "Python 3 (ipykernel)",
   "language": "python",
   "name": "python3"
  },
  "language_info": {
   "codemirror_mode": {
    "name": "ipython",
    "version": 3
   },
   "file_extension": ".py",
   "mimetype": "text/x-python",
   "name": "python",
   "nbconvert_exporter": "python",
   "pygments_lexer": "ipython3",
   "version": "3.9.9"
  }
 },
 "nbformat": 4,
 "nbformat_minor": 4
}
